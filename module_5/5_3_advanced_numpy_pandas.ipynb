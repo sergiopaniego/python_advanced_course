{
 "cells": [
  {
   "cell_type": "markdown",
   "metadata": {},
   "source": [
    "# Advanced operations with numpy and Pandas"
   ]
  },
  {
   "cell_type": "markdown",
   "metadata": {},
   "source": [
    "## 1. Advanced operations with numpy"
   ]
  },
  {
   "cell_type": "markdown",
   "metadata": {},
   "source": [
    "### 1.1 Advanced indexing and conditional selection"
   ]
  },
  {
   "cell_type": "markdown",
   "metadata": {},
   "source": [
    "**Boolean indexing**"
   ]
  },
  {
   "cell_type": "code",
   "execution_count": 1,
   "metadata": {},
   "outputs": [
    {
     "name": "stdout",
     "output_type": "stream",
     "text": [
      "Boolean Mask (data > 30): [False False False  True  True  True]\n",
      "Filtered Data (values > 30): [40 50 60]\n"
     ]
    }
   ],
   "source": [
    "import numpy as np\n",
    "\n",
    "# Create a NumPy array\n",
    "data = np.array([10, 20, 30, 40, 50, 60])\n",
    "\n",
    "# Create a boolean mask for values greater than 30\n",
    "mask = data > 30\n",
    "print(\"Boolean Mask (data > 30):\", mask)\n",
    "\n",
    "# Use the mask to filter the array\n",
    "filtered_data = data[mask]\n",
    "print(\"Filtered Data (values > 30):\", filtered_data)\n"
   ]
  },
  {
   "cell_type": "markdown",
   "metadata": {},
   "source": [
    "**Fancy Indexing**"
   ]
  },
  {
   "cell_type": "code",
   "execution_count": 2,
   "metadata": {},
   "outputs": [
    {
     "name": "stdout",
     "output_type": "stream",
     "text": [
      "Fancy Indexed Data: [20 70]\n"
     ]
    }
   ],
   "source": [
    "# Create a 2D NumPy array\n",
    "data_2d = np.array([[10, 20, 30], \n",
    "                    [40, 50, 60], \n",
    "                    [70, 80, 90]])\n",
    "\n",
    "# Use fancy indexing to select specific elements\n",
    "# Selecting elements at (0, 1) and (2, 0)\n",
    "fancy_indexed = data_2d[[0, 2], [1, 0]]  # 20 and 70\n",
    "print(\"Fancy Indexed Data:\", fancy_indexed)\n"
   ]
  },
  {
   "cell_type": "markdown",
   "metadata": {},
   "source": [
    "### 1.2 Using `np.where`"
   ]
  },
  {
   "cell_type": "markdown",
   "metadata": {},
   "source": [
    "**Basic usage**"
   ]
  },
  {
   "cell_type": "code",
   "execution_count": 3,
   "metadata": {},
   "outputs": [
    {
     "name": "stdout",
     "output_type": "stream",
     "text": [
      "Indices of elements > 30: [3 4 5]\n"
     ]
    }
   ],
   "source": [
    "# Create a NumPy array\n",
    "data = np.array([10, 20, 30, 40, 50, 60])\n",
    "\n",
    "# Using np.where to find indices where data is greater than 30\n",
    "indices = np.where(data > 30)\n",
    "print(\"Indices of elements > 30:\", indices[0])  # Accessing the first element, which contains indices\n"
   ]
  },
  {
   "cell_type": "markdown",
   "metadata": {},
   "source": [
    "**Creating New Arrays with Conditions:**"
   ]
  },
  {
   "cell_type": "code",
   "execution_count": 4,
   "metadata": {},
   "outputs": [
    {
     "name": "stdout",
     "output_type": "stream",
     "text": [
      "New Data based on conditions: ['Low' 'Low' 'Low' 'High' 'High' 'High']\n"
     ]
    }
   ],
   "source": [
    "# Create a NumPy array\n",
    "data = np.array([10, 20, 30, 40, 50, 60])\n",
    "\n",
    "# Use np.where to create a new array with conditions\n",
    "new_data = np.where(data > 30, 'High', 'Low')\n",
    "print(\"New Data based on conditions:\", new_data)\n"
   ]
  },
  {
   "cell_type": "markdown",
   "metadata": {},
   "source": [
    "## 2. Advanced operations in Pandas"
   ]
  },
  {
   "cell_type": "markdown",
   "metadata": {},
   "source": [
    "### Applying functions"
   ]
  },
  {
   "cell_type": "markdown",
   "metadata": {},
   "source": [
    "**Using `apply()`**"
   ]
  },
  {
   "cell_type": "code",
   "execution_count": 5,
   "metadata": {},
   "outputs": [
    {
     "name": "stdout",
     "output_type": "stream",
     "text": [
      "Using apply() to sum each column:\n",
      " A     6\n",
      "B    15\n",
      "dtype: int64\n"
     ]
    }
   ],
   "source": [
    "import pandas as pd\n",
    "\n",
    "# Create a DataFrame\n",
    "df = pd.DataFrame({\n",
    "    'A': [1, 2, 3],\n",
    "    'B': [4, 5, 6]\n",
    "})\n",
    "\n",
    "# Apply a function to each column\n",
    "result_apply = df.apply(lambda x: x.sum(), axis=0)  # Sum of each column\n",
    "print(\"Using apply() to sum each column:\\n\", result_apply)\n"
   ]
  },
  {
   "cell_type": "markdown",
   "metadata": {},
   "source": [
    "**Using `map()`**"
   ]
  },
  {
   "cell_type": "code",
   "execution_count": 6,
   "metadata": {},
   "outputs": [
    {
     "name": "stdout",
     "output_type": "stream",
     "text": [
      "Using map() to square each element:\n",
      " 0     1\n",
      "1     4\n",
      "2     9\n",
      "3    16\n",
      "dtype: int64\n"
     ]
    }
   ],
   "source": [
    "# Create a Series\n",
    "s = pd.Series([1, 2, 3, 4])\n",
    "\n",
    "# Use map to square each element\n",
    "result_map = s.map(lambda x: x ** 2)\n",
    "print(\"Using map() to square each element:\\n\", result_map)\n"
   ]
  },
  {
   "cell_type": "markdown",
   "metadata": {},
   "source": [
    "### Combining DataFrames\n",
    "\n",
    "**Using `merge()`**\n"
   ]
  },
  {
   "cell_type": "code",
   "execution_count": 8,
   "metadata": {},
   "outputs": [
    {
     "name": "stdout",
     "output_type": "stream",
     "text": [
      "Using merge() to combine DataFrames:\n",
      "   key  value1  value2\n",
      "0   B       2       4\n",
      "1   C       3       5\n"
     ]
    }
   ],
   "source": [
    "# Create two DataFrames\n",
    "df1 = pd.DataFrame({\n",
    "    'key': ['A', 'B', 'C'],\n",
    "    'value1': [1, 2, 3]\n",
    "})\n",
    "\n",
    "df2 = pd.DataFrame({\n",
    "    'key': ['B', 'C', 'D'],\n",
    "    'value2': [4, 5, 6]\n",
    "})\n",
    "\n",
    "# Merge DataFrames on the 'key' column\n",
    "result_merge = pd.merge(df1, df2, on='key', how='inner')  # Inner join\n",
    "print(\"Using merge() to combine DataFrames:\\n\", result_merge)\n"
   ]
  },
  {
   "cell_type": "markdown",
   "metadata": {},
   "source": [
    "**Using `join()`**"
   ]
  },
  {
   "cell_type": "code",
   "execution_count": 9,
   "metadata": {},
   "outputs": [
    {
     "name": "stdout",
     "output_type": "stream",
     "text": [
      "Using join() to combine DataFrames:\n",
      "    value1  value2\n",
      "B       2       4\n",
      "C       3       5\n"
     ]
    }
   ],
   "source": [
    "# Create two DataFrames with indices\n",
    "df3 = pd.DataFrame({\n",
    "    'value1': [1, 2, 3]\n",
    "}, index=['A', 'B', 'C'])\n",
    "\n",
    "df4 = pd.DataFrame({\n",
    "    'value2': [4, 5]\n",
    "}, index=['B', 'C'])\n",
    "\n",
    "# Join DataFrames on index\n",
    "result_join = df3.join(df4, how='inner')\n",
    "print(\"Using join() to combine DataFrames:\\n\", result_join)\n"
   ]
  },
  {
   "cell_type": "markdown",
   "metadata": {},
   "source": [
    "**Using `concat()`**"
   ]
  },
  {
   "cell_type": "code",
   "execution_count": 10,
   "metadata": {},
   "outputs": [
    {
     "name": "stdout",
     "output_type": "stream",
     "text": [
      "Using concat() to concatenate DataFrames:\n",
      "    A  B\n",
      "0  1  3\n",
      "1  2  4\n",
      "0  5  7\n",
      "1  6  8\n"
     ]
    }
   ],
   "source": [
    "# Create two DataFrames\n",
    "df5 = pd.DataFrame({\n",
    "    'A': [1, 2],\n",
    "    'B': [3, 4]\n",
    "})\n",
    "\n",
    "df6 = pd.DataFrame({\n",
    "    'A': [5, 6],\n",
    "    'B': [7, 8]\n",
    "})\n",
    "\n",
    "# Concatenate DataFrames vertically\n",
    "result_concat = pd.concat([df5, df6], axis=0)\n",
    "print(\"Using concat() to concatenate DataFrames:\\n\", result_concat)\n"
   ]
  },
  {
   "cell_type": "code",
   "execution_count": null,
   "metadata": {},
   "outputs": [],
   "source": []
  }
 ],
 "metadata": {
  "kernelspec": {
   "display_name": "venv",
   "language": "python",
   "name": "python3"
  },
  "language_info": {
   "codemirror_mode": {
    "name": "ipython",
    "version": 3
   },
   "file_extension": ".py",
   "mimetype": "text/x-python",
   "name": "python",
   "nbconvert_exporter": "python",
   "pygments_lexer": "ipython3",
   "version": "3.12.6"
  }
 },
 "nbformat": 4,
 "nbformat_minor": 2
}
