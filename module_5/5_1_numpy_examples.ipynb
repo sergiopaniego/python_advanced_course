{
 "cells": [
  {
   "cell_type": "markdown",
   "metadata": {},
   "source": [
    "# Numpy examples"
   ]
  },
  {
   "cell_type": "markdown",
   "metadata": {},
   "source": [
    "**Comparison between numpy and python lists**"
   ]
  },
  {
   "cell_type": "code",
   "execution_count": 1,
   "metadata": {},
   "outputs": [
    {
     "name": "stdout",
     "output_type": "stream",
     "text": [
      "List addition time: 0.0849149227142334\n",
      "NumPy addition time: 0.02525806427001953\n"
     ]
    }
   ],
   "source": [
    "import numpy as np\n",
    "import time\n",
    "\n",
    "# Using lists\n",
    "list1 = list(range(1000000))\n",
    "list2 = list(range(1000000))\n",
    "start = time.time()\n",
    "result = [x + y for x, y in zip(list1, list2)]\n",
    "print(\"List addition time:\", time.time() - start)\n",
    "\n",
    "# Using NumPy arrays\n",
    "array1 = np.arange(1000000)\n",
    "array2 = np.arange(1000000)\n",
    "start = time.time()\n",
    "result = array1 + array2\n",
    "print(\"NumPy addition time:\", time.time() - start)\n"
   ]
  },
  {
   "cell_type": "markdown",
   "metadata": {},
   "source": [
    "**Comparison of summing elements in Python lists vs. NumPy arrays**"
   ]
  },
  {
   "cell_type": "code",
   "execution_count": 2,
   "metadata": {},
   "outputs": [
    {
     "name": "stdout",
     "output_type": "stream",
     "text": [
      "Python list sum: [3, 4, 5, 6]\n",
      "NumPy array sum: [3 4 5 6]\n"
     ]
    }
   ],
   "source": [
    "import numpy as np\n",
    "\n",
    "# Sum of elements in a Python list\n",
    "python_list = [1, 2, 3, 4]\n",
    "python_list_sum = [x + 2 for x in python_list]\n",
    "\n",
    "# Sum of elements in a NumPy array\n",
    "numpy_array = np.array([1, 2, 3, 4])\n",
    "numpy_array_sum = numpy_array + 2\n",
    "\n",
    "print(\"Python list sum:\", python_list_sum)\n",
    "print(\"NumPy array sum:\", numpy_array_sum)\n"
   ]
  },
  {
   "cell_type": "markdown",
   "metadata": {},
   "source": [
    "**Array creation**"
   ]
  },
  {
   "cell_type": "code",
   "execution_count": 5,
   "metadata": {},
   "outputs": [
    {
     "name": "stdout",
     "output_type": "stream",
     "text": [
      "Array from list: [1 2 3 4]\n",
      "Zeros array: [[0. 0. 0.]\n",
      " [0. 0. 0.]]\n",
      "Ones array: [[1. 1. 1.]\n",
      " [1. 1. 1.]\n",
      " [1. 1. 1.]]\n",
      "Range array: [0 2 4 6 8]\n",
      "Linspace array: [0.   0.25 0.5  0.75 1.  ]\n"
     ]
    }
   ],
   "source": [
    "# Creating different types of arrays\n",
    "array_from_list = np.array([1, 2, 3, 4])\n",
    "array_zeros = np.zeros((2, 3))  # 2x3 array of zeros\n",
    "array_ones = np.ones((3, 3))    # 3x3 array of ones\n",
    "array_range = np.arange(0, 10, 2)  # Values from 0 to 10, step 2\n",
    "array_linspace = np.linspace(0, 1, 5)  # 5 equally spaced values from 0 to 1\n",
    "\n",
    "print(\"Array from list:\", array_from_list)\n",
    "print(\"Zeros array:\", array_zeros)\n",
    "print(\"Ones array:\", array_ones)\n",
    "print(\"Range array:\", array_range)\n",
    "print(\"Linspace array:\", array_linspace)\n"
   ]
  },
  {
   "cell_type": "markdown",
   "metadata": {},
   "source": [
    "**Basic operations and functions**\n",
    "\n",
    "Vectorized Arithmetic Operations"
   ]
  },
  {
   "cell_type": "code",
   "execution_count": 6,
   "metadata": {},
   "outputs": [
    {
     "name": "stdout",
     "output_type": "stream",
     "text": [
      "Array + 10: [11 12 13 14]\n",
      "Array * 2: [2 4 6 8]\n",
      "Sum: 10\n",
      "Mean: 2.5\n",
      "Standard deviation: 1.118033988749895\n",
      "Max value: 4\n",
      "Min value: 1\n"
     ]
    }
   ],
   "source": [
    "# Vectorized operations\n",
    "array = np.array([1, 2, 3, 4])\n",
    "print(\"Array + 10:\", array + 10)\n",
    "print(\"Array * 2:\", array * 2)\n",
    "\n",
    "# Statistical functions\n",
    "print(\"Sum:\", np.sum(array))\n",
    "print(\"Mean:\", np.mean(array))\n",
    "print(\"Standard deviation:\", np.std(array))\n",
    "print(\"Max value:\", np.max(array))\n",
    "print(\"Min value:\", np.min(array))\n"
   ]
  },
  {
   "cell_type": "markdown",
   "metadata": {},
   "source": [
    "**Broadcasting**"
   ]
  },
  {
   "cell_type": "code",
   "execution_count": 7,
   "metadata": {},
   "outputs": [
    {
     "name": "stdout",
     "output_type": "stream",
     "text": [
      "Result of broadcasting: [[2 4 6]\n",
      " [5 7 9]]\n"
     ]
    }
   ],
   "source": [
    "# Broadcasting example\n",
    "matrix = np.array([[1, 2, 3], [4, 5, 6]])\n",
    "vector = np.array([1, 2, 3])\n",
    "\n",
    "result = matrix + vector  # Broadcasting\n",
    "print(\"Result of broadcasting:\", result)\n"
   ]
  },
  {
   "cell_type": "markdown",
   "metadata": {},
   "source": [
    "**Array Manipulation**"
   ]
  },
  {
   "cell_type": "code",
   "execution_count": 8,
   "metadata": {},
   "outputs": [
    {
     "name": "stdout",
     "output_type": "stream",
     "text": [
      "Element at (0, 1): 2\n",
      "First row: [1 2 3]\n",
      "Second column: [2 5 8]\n",
      "Reshaped array: [[1 2 3 4 5 6 7 8 9]]\n",
      "Concatenated array: [1 2 3 4 5 6]\n"
     ]
    }
   ],
   "source": [
    "# Indexing and slicing\n",
    "array = np.array([[1, 2, 3], [4, 5, 6], [7, 8, 9]])\n",
    "print(\"Element at (0, 1):\", array[0, 1])  # First row, second column\n",
    "print(\"First row:\", array[0, :])          # First row\n",
    "print(\"Second column:\", array[:, 1])      # Second column\n",
    "\n",
    "# Reshaping array\n",
    "reshaped_array = array.reshape(1, 9)\n",
    "print(\"Reshaped array:\", reshaped_array)\n",
    "\n",
    "# Concatenating arrays\n",
    "array1 = np.array([1, 2, 3])\n",
    "array2 = np.array([4, 5, 6])\n",
    "concatenated = np.concatenate((array1, array2))\n",
    "print(\"Concatenated array:\", concatenated)\n"
   ]
  },
  {
   "cell_type": "code",
   "execution_count": null,
   "metadata": {},
   "outputs": [],
   "source": []
  }
 ],
 "metadata": {
  "kernelspec": {
   "display_name": "venv",
   "language": "python",
   "name": "python3"
  },
  "language_info": {
   "codemirror_mode": {
    "name": "ipython",
    "version": 3
   },
   "file_extension": ".py",
   "mimetype": "text/x-python",
   "name": "python",
   "nbconvert_exporter": "python",
   "pygments_lexer": "ipython3",
   "version": "3.12.6"
  }
 },
 "nbformat": 4,
 "nbformat_minor": 2
}
