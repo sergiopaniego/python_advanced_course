{
 "cells": [
  {
   "cell_type": "markdown",
   "metadata": {},
   "source": [
    "# Pandas examples"
   ]
  },
  {
   "cell_type": "code",
   "execution_count": null,
   "metadata": {},
   "outputs": [],
   "source": [
    "!pip install pandas"
   ]
  },
  {
   "cell_type": "markdown",
   "metadata": {},
   "source": [
    "## 1. Data Structures in Pandas"
   ]
  },
  {
   "cell_type": "code",
   "execution_count": 1,
   "metadata": {},
   "outputs": [
    {
     "name": "stdout",
     "output_type": "stream",
     "text": [
      "Pandas Series:\n",
      " 0    10\n",
      "1    20\n",
      "2    30\n",
      "3    40\n",
      "dtype: int64\n",
      "\n",
      "Pandas DataFrame:\n",
      "   Product  Sales  Quantity\n",
      "0       A   1500        10\n",
      "1       B   2000        15\n",
      "2       C   2500        20\n",
      "3       D   3000        25\n"
     ]
    }
   ],
   "source": [
    "import pandas as pd\n",
    "\n",
    "# Create a Pandas Series\n",
    "data_series = pd.Series([10, 20, 30, 40])\n",
    "print(\"Pandas Series:\\n\", data_series)\n",
    "\n",
    "# Create a Pandas DataFrame\n",
    "data_frame = pd.DataFrame({\n",
    "    'Product': ['A', 'B', 'C', 'D'],\n",
    "    'Sales': [1500, 2000, 2500, 3000],\n",
    "    'Quantity': [10, 15, 20, 25]\n",
    "})\n",
    "print(\"\\nPandas DataFrame:\\n\", data_frame)\n"
   ]
  },
  {
   "cell_type": "markdown",
   "metadata": {},
   "source": [
    "**Creating a Pandas Series**"
   ]
  },
  {
   "cell_type": "code",
   "execution_count": 3,
   "metadata": {},
   "outputs": [
    {
     "name": "stdout",
     "output_type": "stream",
     "text": [
      "Series from list:\n",
      " 0    10\n",
      "1    20\n",
      "2    30\n",
      "3    40\n",
      "dtype: int64\n",
      "\n",
      "Series from NumPy array:\n",
      " 0    1\n",
      "1    2\n",
      "2    3\n",
      "3    4\n",
      "dtype: int64\n",
      "\n",
      "Series from dictionary:\n",
      " a    1\n",
      "b    2\n",
      "c    3\n",
      "dtype: int64\n",
      "\n",
      "Series with custom index:\n",
      " A    10\n",
      "B    20\n",
      "C    30\n",
      "D    40\n",
      "dtype: int64\n"
     ]
    }
   ],
   "source": [
    "import pandas as pd\n",
    "\n",
    "# Creating a Series from a list\n",
    "data_list = [10, 20, 30, 40]\n",
    "series_from_list = pd.Series(data_list)\n",
    "print(\"Series from list:\\n\", series_from_list)\n",
    "\n",
    "# Creating a Series from a NumPy array\n",
    "import numpy as np\n",
    "data_array = np.array([1, 2, 3, 4])\n",
    "series_from_array = pd.Series(data_array)\n",
    "print(\"\\nSeries from NumPy array:\\n\", series_from_array)\n",
    "\n",
    "# Creating a Series from a dictionary\n",
    "data_dict = {'a': 1, 'b': 2, 'c': 3}\n",
    "series_from_dict = pd.Series(data_dict)\n",
    "print(\"\\nSeries from dictionary:\\n\", series_from_dict)\n",
    "\n",
    "# Creating a Series with a custom index\n",
    "custom_index_series = pd.Series(data_list, index=['A', 'B', 'C', 'D'])\n",
    "print(\"\\nSeries with custom index:\\n\", custom_index_series)\n"
   ]
  },
  {
   "cell_type": "markdown",
   "metadata": {},
   "source": [
    "**Creating a Pandas DataFrame**"
   ]
  },
  {
   "cell_type": "code",
   "execution_count": 5,
   "metadata": {},
   "outputs": [
    {
     "name": "stdout",
     "output_type": "stream",
     "text": [
      "\n",
      "DataFrame from dictionary:\n",
      "   Product  Sales  Quantity\n",
      "0       A   1500        10\n",
      "1       B   2000        15\n",
      "2       C   2500        20\n",
      "3       D   3000        25\n",
      "\n",
      "DataFrame from list of dictionaries:\n",
      "   Product  Sales  Quantity\n",
      "0       A   1500        10\n",
      "1       B   2000        15\n",
      "2       C   2500        20\n",
      "3       D   3000        25\n",
      "\n",
      "DataFrame from NumPy array:\n",
      "       A  B  C\n",
      "Row1  1  2  3\n",
      "Row2  4  5  6\n",
      "Row3  7  8  9\n",
      "\n",
      "DataFrame with custom index and column order:\n",
      "      Product  Sales\n",
      "Row1       A   1500\n",
      "Row2       B   2000\n",
      "Row3       C   2500\n",
      "Row4       D   3000\n"
     ]
    }
   ],
   "source": [
    "# Creating a DataFrame from a dictionary\n",
    "data = {\n",
    "    'Product': ['A', 'B', 'C', 'D'],\n",
    "    'Sales': [1500, 2000, 2500, 3000],\n",
    "    'Quantity': [10, 15, 20, 25]\n",
    "}\n",
    "df_from_dict = pd.DataFrame(data)\n",
    "print(\"\\nDataFrame from dictionary:\\n\", df_from_dict)\n",
    "\n",
    "# Creating a DataFrame from a list of dictionaries\n",
    "data_list_of_dicts = [\n",
    "    {'Product': 'A', 'Sales': 1500, 'Quantity': 10},\n",
    "    {'Product': 'B', 'Sales': 2000, 'Quantity': 15},\n",
    "    {'Product': 'C', 'Sales': 2500, 'Quantity': 20},\n",
    "    {'Product': 'D', 'Sales': 3000, 'Quantity': 25}\n",
    "]\n",
    "df_from_list_of_dicts = pd.DataFrame(data_list_of_dicts)\n",
    "print(\"\\nDataFrame from list of dictionaries:\\n\", df_from_list_of_dicts)\n",
    "\n",
    "# Creating a DataFrame from a NumPy array\n",
    "data_array_2d = np.array([[1, 2, 3], [4, 5, 6], [7, 8, 9]])\n",
    "df_from_array = pd.DataFrame(data_array_2d, columns=['A', 'B', 'C'], index=['Row1', 'Row2', 'Row3'])\n",
    "print(\"\\nDataFrame from NumPy array:\\n\", df_from_array)\n",
    "\n",
    "# Creating a DataFrame with a custom index and column order\n",
    "df_custom_index_columns = pd.DataFrame(data, index=['Row1', 'Row2', 'Row3', 'Row4'], columns=['Product', 'Sales'])\n",
    "print(\"\\nDataFrame with custom index and column order:\\n\", df_custom_index_columns)\n",
    "\n"
   ]
  },
  {
   "cell_type": "markdown",
   "metadata": {},
   "source": [
    "## 2. Importing and exporting data"
   ]
  },
  {
   "cell_type": "code",
   "execution_count": null,
   "metadata": {},
   "outputs": [],
   "source": [
    "!pip install openpyxl"
   ]
  },
  {
   "cell_type": "code",
   "execution_count": 8,
   "metadata": {},
   "outputs": [
    {
     "name": "stdout",
     "output_type": "stream",
     "text": [
      "\n",
      "DataFrame from CSV:\n",
      "   Product  Sales  Quantity\n",
      "0       A   1500        10\n",
      "1       B   2000        15\n",
      "2       C   2500        20\n",
      "3       D   3000        25\n",
      "4       E   3500        30\n"
     ]
    },
    {
     "name": "stdout",
     "output_type": "stream",
     "text": [
      "\n",
      "DataFrame from JSON:\n",
      "   Product  Sales  Quantity\n",
      "0       A   1500        10\n",
      "1       B   2000        15\n",
      "2       C   2500        20\n",
      "3       D   3000        25\n",
      "4       E   3500        30\n"
     ]
    }
   ],
   "source": [
    "# Reading data from CSV\n",
    "df_csv = pd.read_csv('sales_data.csv')  # Example file\n",
    "print(\"\\nDataFrame from CSV:\\n\", df_csv)\n",
    "\n",
    "# Writing DataFrame to Excel\n",
    "df_csv.to_excel('sales_data.xlsx', index=False)\n",
    "\n",
    "# Reading from JSON\n",
    "df_json = pd.read_json('sales_data.json')  # Example file\n",
    "print(\"\\nDataFrame from JSON:\\n\", df_json)\n"
   ]
  },
  {
   "cell_type": "markdown",
   "metadata": {},
   "source": [
    "## 3. Data manipulation\n",
    "\n",
    "**Selection and Filtering**\n",
    "\n",
    "Selecting Columns\n"
   ]
  },
  {
   "cell_type": "code",
   "execution_count": 10,
   "metadata": {},
   "outputs": [
    {
     "name": "stdout",
     "output_type": "stream",
     "text": [
      "Sales Column:\n",
      " 0    1500\n",
      "1    2000\n",
      "2    2500\n",
      "3    3000\n",
      "4    3500\n",
      "Name: Sales, dtype: int64\n",
      "\n",
      "Subset DataFrame:\n",
      "   Product  Sales\n",
      "0       A   1500\n",
      "1       B   2000\n",
      "2       C   2500\n",
      "3       D   3000\n",
      "4       E   3500\n"
     ]
    }
   ],
   "source": [
    "# Selecting a single column\n",
    "sales_column = df_csv['Sales']\n",
    "print(\"Sales Column:\\n\", sales_column)\n",
    "\n",
    "# Selecting multiple columns\n",
    "subset_df = df_csv[['Product', 'Sales']]\n",
    "print(\"\\nSubset DataFrame:\\n\", subset_df)\n"
   ]
  },
  {
   "cell_type": "markdown",
   "metadata": {},
   "source": [
    "Filtering Rows"
   ]
  },
  {
   "cell_type": "code",
   "execution_count": null,
   "metadata": {},
   "outputs": [],
   "source": [
    "# Filtering products with Sales greater than 2000\n",
    "high_sales = df_csv[df_csv['Sales'] > 2000]\n",
    "print(\"\\nProducts with Sales greater than 2000:\\n\", high_sales)\n"
   ]
  },
  {
   "cell_type": "markdown",
   "metadata": {},
   "source": [
    "**Data Cleaning**\n",
    "\n",
    "Handling Missing Values"
   ]
  },
  {
   "cell_type": "code",
   "execution_count": 11,
   "metadata": {},
   "outputs": [
    {
     "name": "stdout",
     "output_type": "stream",
     "text": [
      "\n",
      "DataFrame with Missing Value:\n",
      "   Product   Sales  Quantity\n",
      "0       A  1500.0        10\n",
      "1       B  2000.0        15\n",
      "2       C     NaN        20\n",
      "3       D  3000.0        25\n",
      "4       E  3500.0        30\n",
      "\n",
      "DataFrame after Dropping Missing Values:\n",
      "   Product   Sales  Quantity\n",
      "0       A  1500.0        10\n",
      "1       B  2000.0        15\n",
      "3       D  3000.0        25\n",
      "4       E  3500.0        30\n",
      "\n",
      "DataFrame after Filling Missing Values:\n",
      "   Product   Sales  Quantity\n",
      "0       A  1500.0        10\n",
      "1       B  2000.0        15\n",
      "2       C     0.0        20\n",
      "3       D  3000.0        25\n",
      "4       E  3500.0        30\n"
     ]
    }
   ],
   "source": [
    "# Adding a missing value for demonstration\n",
    "df_csv.loc[2, 'Sales'] = None\n",
    "print(\"\\nDataFrame with Missing Value:\\n\", df_csv)\n",
    "\n",
    "# Dropping rows with missing values\n",
    "df_cleaned = df_csv.dropna()\n",
    "print(\"\\nDataFrame after Dropping Missing Values:\\n\", df_cleaned)\n",
    "\n",
    "# Filling missing values with a specific value\n",
    "df_filled = df_csv.fillna(0)\n",
    "print(\"\\nDataFrame after Filling Missing Values:\\n\", df_filled)\n"
   ]
  },
  {
   "cell_type": "markdown",
   "metadata": {},
   "source": [
    "**Creating New Columns**\n",
    "\n",
    "\n",
    "Adding a New Column Based on Calculations"
   ]
  },
  {
   "cell_type": "code",
   "execution_count": 12,
   "metadata": {},
   "outputs": [
    {
     "name": "stdout",
     "output_type": "stream",
     "text": [
      "\n",
      "DataFrame with Total Sales Column:\n",
      "   Product   Sales  Quantity  Total_Sales\n",
      "0       A  1500.0        10      15000.0\n",
      "1       B  2000.0        15      30000.0\n",
      "2       C     NaN        20          NaN\n",
      "3       D  3000.0        25      75000.0\n",
      "4       E  3500.0        30     105000.0\n"
     ]
    }
   ],
   "source": [
    "# Creating a new column for Total Sales (Sales * Quantity)\n",
    "df_csv['Total_Sales'] = df_csv['Sales'] * df_csv['Quantity']\n",
    "print(\"\\nDataFrame with Total Sales Column:\\n\", df_csv)\n"
   ]
  },
  {
   "cell_type": "markdown",
   "metadata": {},
   "source": [
    "**Aggregation and Grouping**\n",
    "\n",
    "Summary Statistics"
   ]
  },
  {
   "cell_type": "code",
   "execution_count": 13,
   "metadata": {},
   "outputs": [
    {
     "name": "stdout",
     "output_type": "stream",
     "text": [
      "\n",
      "Summary Statistics:\n",
      "              Sales   Quantity    Total_Sales\n",
      "count     4.000000   5.000000       4.000000\n",
      "mean   2500.000000  20.000000   56250.000000\n",
      "std     912.870929   7.905694   41306.779105\n",
      "min    1500.000000  10.000000   15000.000000\n",
      "25%    1875.000000  15.000000   26250.000000\n",
      "50%    2500.000000  20.000000   52500.000000\n",
      "75%    3125.000000  25.000000   82500.000000\n",
      "max    3500.000000  30.000000  105000.000000\n"
     ]
    }
   ],
   "source": [
    "# Summary statistics for numerical columns\n",
    "summary_stats = df_csv.describe()\n",
    "print(\"\\nSummary Statistics:\\n\", summary_stats)\n"
   ]
  },
  {
   "cell_type": "markdown",
   "metadata": {},
   "source": [
    "Grouping Data"
   ]
  },
  {
   "cell_type": "code",
   "execution_count": 14,
   "metadata": {},
   "outputs": [
    {
     "name": "stdout",
     "output_type": "stream",
     "text": [
      "\n",
      "Grouped Sales by Product:\n",
      "   Product   Sales\n",
      "0       A  1500.0\n",
      "1       B  2000.0\n",
      "2       C     0.0\n",
      "3       D  3000.0\n",
      "4       E  3500.0\n"
     ]
    }
   ],
   "source": [
    "# Grouping by 'Product' and summing the 'Sales'\n",
    "grouped_sales = df_csv.groupby('Product')['Sales'].sum().reset_index()\n",
    "print(\"\\nGrouped Sales by Product:\\n\", grouped_sales)\n"
   ]
  },
  {
   "cell_type": "markdown",
   "metadata": {},
   "source": [
    "**Sorting Data**\n",
    "\n",
    "Sorting a DataFrame"
   ]
  },
  {
   "cell_type": "code",
   "execution_count": 15,
   "metadata": {},
   "outputs": [
    {
     "name": "stdout",
     "output_type": "stream",
     "text": [
      "\n",
      "Sorted DataFrame by Sales (Descending):\n",
      "   Product   Sales  Quantity  Total_Sales\n",
      "4       E  3500.0        30     105000.0\n",
      "3       D  3000.0        25      75000.0\n",
      "1       B  2000.0        15      30000.0\n",
      "0       A  1500.0        10      15000.0\n",
      "2       C     NaN        20          NaN\n"
     ]
    }
   ],
   "source": [
    "# Sorting by Sales in descending order\n",
    "sorted_df = df_csv.sort_values(by='Sales', ascending=False)\n",
    "print(\"\\nSorted DataFrame by Sales (Descending):\\n\", sorted_df)\n"
   ]
  },
  {
   "cell_type": "markdown",
   "metadata": {},
   "source": [
    "**Merging DataFrames**\n",
    "\n",
    "Merging Two DataFrames"
   ]
  },
  {
   "cell_type": "code",
   "execution_count": 16,
   "metadata": {},
   "outputs": [
    {
     "name": "stdout",
     "output_type": "stream",
     "text": [
      "\n",
      "Merged DataFrame:\n",
      "   Product   Sales  Quantity  Total_Sales     Category\n",
      "0       A  1500.0        10      15000.0  Electronics\n",
      "1       B  2000.0        15      30000.0  Electronics\n",
      "2       C     NaN        20          NaN    Furniture\n",
      "3       D  3000.0        25      75000.0    Furniture\n",
      "4       E  3500.0        30     105000.0      Grocery\n"
     ]
    }
   ],
   "source": [
    "# Creating another DataFrame for demonstration\n",
    "additional_data = pd.DataFrame({\n",
    "    'Product': ['A', 'B', 'C', 'D', 'E'],\n",
    "    'Category': ['Electronics', 'Electronics', 'Furniture', 'Furniture', 'Grocery']\n",
    "})\n",
    "\n",
    "# Merging on 'Product'\n",
    "merged_df = pd.merge(df_csv, additional_data, on='Product', how='left')\n",
    "print(\"\\nMerged DataFrame:\\n\", merged_df)\n"
   ]
  },
  {
   "cell_type": "markdown",
   "metadata": {},
   "source": [
    "**Resetting the Index**\n",
    "\n",
    "Resetting the Index of a DataFrame"
   ]
  },
  {
   "cell_type": "code",
   "execution_count": 17,
   "metadata": {},
   "outputs": [
    {
     "name": "stdout",
     "output_type": "stream",
     "text": [
      "\n",
      "Filtered DataFrame with Reset Index:\n",
      "   Product   Sales  Quantity  Total_Sales\n",
      "0       D  3000.0        25      75000.0\n",
      "1       E  3500.0        30     105000.0\n"
     ]
    }
   ],
   "source": [
    "# Resetting the index after filtering\n",
    "filtered_df = df_csv[df_csv['Sales'] > 2000]\n",
    "reset_df = filtered_df.reset_index(drop=True)\n",
    "print(\"\\nFiltered DataFrame with Reset Index:\\n\", reset_df)\n"
   ]
  },
  {
   "cell_type": "markdown",
   "metadata": {},
   "source": [
    "## 4. Aggregation operations"
   ]
  },
  {
   "cell_type": "code",
   "execution_count": 18,
   "metadata": {},
   "outputs": [
    {
     "name": "stdout",
     "output_type": "stream",
     "text": [
      "\n",
      "Statistical summary of DataFrame:\n",
      "             Sales   Quantity   Total Value\n",
      "count     4.00000   4.000000      4.000000\n",
      "mean   2500.00000  17.500000  45000.000000\n",
      "std     408.24829   6.454972  22730.302828\n",
      "min    2000.00000  10.000000  25000.000000\n",
      "25%    2375.00000  13.750000  28750.000000\n",
      "50%    2500.00000  17.500000  40000.000000\n",
      "75%    2625.00000  21.250000  56250.000000\n",
      "max    3000.00000  25.000000  75000.000000\n",
      "\n",
      "Grouped Data (Total Sales by Product):\n",
      " Product\n",
      "A    2500.0\n",
      "B    2000.0\n",
      "C    2500.0\n",
      "D    3000.0\n",
      "Name: Sales, dtype: float64\n"
     ]
    }
   ],
   "source": [
    "# Statistical summaries\n",
    "print(\"\\nStatistical summary of DataFrame:\\n\", data_frame.describe())\n",
    "\n",
    "# Grouping by Product and summing Sales\n",
    "grouped_data = data_frame.groupby('Product')['Sales'].sum()\n",
    "print(\"\\nGrouped Data (Total Sales by Product):\\n\", grouped_data)\n"
   ]
  }
 ],
 "metadata": {
  "kernelspec": {
   "display_name": "venv",
   "language": "python",
   "name": "python3"
  },
  "language_info": {
   "codemirror_mode": {
    "name": "ipython",
    "version": 3
   },
   "file_extension": ".py",
   "mimetype": "text/x-python",
   "name": "python",
   "nbconvert_exporter": "python",
   "pygments_lexer": "ipython3",
   "version": "3.12.6"
  }
 },
 "nbformat": 4,
 "nbformat_minor": 2
}
