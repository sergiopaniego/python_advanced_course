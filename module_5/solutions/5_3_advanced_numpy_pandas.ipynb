{
 "cells": [
  {
   "cell_type": "markdown",
   "metadata": {},
   "source": [
    "# Advanced operations with numpy and Pandas"
   ]
  },
  {
   "cell_type": "code",
   "execution_count": 17,
   "metadata": {},
   "outputs": [],
   "source": [
    "import pandas as pd\n",
    "\n",
    "# Load data\n",
    "customers = pd.read_csv('customers.csv')\n",
    "orders = pd.read_csv('orders.csv')"
   ]
  },
  {
   "cell_type": "code",
   "execution_count": 18,
   "metadata": {},
   "outputs": [],
   "source": [
    "# Define a function to categorize order amounts\n",
    "def categorize_amount(amount):\n",
    "    return \"High\" if amount > 30 else \"Low\"\n",
    "\n",
    "# Apply the function to the 'amount' column\n",
    "orders['amount_category'] = orders['amount'].apply(categorize_amount)"
   ]
  },
  {
   "cell_type": "code",
   "execution_count": 19,
   "metadata": {},
   "outputs": [],
   "source": [
    "# Calculate total spent by each customer\n",
    "total_spent = orders.groupby('customer_id')['amount'].sum().reset_index()\n",
    "total_spent.rename(columns={'amount': 'total_spent'}, inplace=True)\n"
   ]
  },
  {
   "cell_type": "code",
   "execution_count": 20,
   "metadata": {},
   "outputs": [],
   "source": [
    "# Combine DataFrames to get customer summary\n",
    "customer_summary = pd.merge(customers, total_spent, on='customer_id', how='left')"
   ]
  },
  {
   "cell_type": "code",
   "execution_count": 21,
   "metadata": {},
   "outputs": [
    {
     "name": "stderr",
     "output_type": "stream",
     "text": [
      "/var/folders/yp/vm433df166gcq6mdq6vchglh0000gn/T/ipykernel_3941/40585807.py:2: FutureWarning: A value is trying to be set on a copy of a DataFrame or Series through chained assignment using an inplace method.\n",
      "The behavior will change in pandas 3.0. This inplace method will never work because the intermediate object on which we are setting values always behaves as a copy.\n",
      "\n",
      "For example, when doing 'df[col].method(value, inplace=True)', try using 'df.method({col: value}, inplace=True)' or df[col] = df[col].method(value) instead, to perform the operation inplace on the original object.\n",
      "\n",
      "\n",
      "  customer_summary['total_spent'].fillna(0, inplace=True)\n"
     ]
    }
   ],
   "source": [
    "# Fill NaN total_spent with 0\n",
    "customer_summary['total_spent'].fillna(0, inplace=True)"
   ]
  },
  {
   "cell_type": "code",
   "execution_count": 22,
   "metadata": {},
   "outputs": [
    {
     "name": "stdout",
     "output_type": "stream",
     "text": [
      "   customer_id         name country  total_spent\n",
      "0            1     John Doe     USA        45.98\n",
      "1            2   Jane Smith  Canada        45.00\n",
      "2            3  Bob Johnson     USA        79.98\n",
      "3            4  Linda Davis      UK        19.99\n"
     ]
    }
   ],
   "source": [
    "\n",
    "# Display the result\n",
    "print(customer_summary)\n"
   ]
  },
  {
   "cell_type": "code",
   "execution_count": 23,
   "metadata": {},
   "outputs": [
    {
     "name": "stdout",
     "output_type": "stream",
     "text": [
      "\n",
      "Orders DataFrame with amount_category:\n",
      "    order_id  customer_id   product  amount amount_category\n",
      "0      1001            1  Widget A   29.99             Low\n",
      "1      1002            1  Widget B   15.99             Low\n",
      "2      1003            2  Widget C   45.00            High\n",
      "3      1004            3  Widget A   29.99             Low\n",
      "4      1005            3  Widget D   49.99            High\n",
      "5      1006            4  Widget E   19.99             Low\n"
     ]
    }
   ],
   "source": [
    "# Optionally, to view the updated orders DataFrame with amount_category\n",
    "print(\"\\nOrders DataFrame with amount_category:\\n\", orders)"
   ]
  }
 ],
 "metadata": {
  "kernelspec": {
   "display_name": "venv",
   "language": "python",
   "name": "python3"
  },
  "language_info": {
   "codemirror_mode": {
    "name": "ipython",
    "version": 3
   },
   "file_extension": ".py",
   "mimetype": "text/x-python",
   "name": "python",
   "nbconvert_exporter": "python",
   "pygments_lexer": "ipython3",
   "version": "3.12.6"
  }
 },
 "nbformat": 4,
 "nbformat_minor": 2
}
