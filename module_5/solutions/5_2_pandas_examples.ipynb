{
 "cells": [
  {
   "cell_type": "code",
   "execution_count": 2,
   "metadata": {},
   "outputs": [],
   "source": [
    "import pandas as pd\n",
    "\n",
    "# Step 1: Load the Iris Dataset\n",
    "url = 'https://raw.githubusercontent.com/mwaskom/seaborn-data/master/iris.csv'\n",
    "iris_data = pd.read_csv(url)"
   ]
  },
  {
   "cell_type": "code",
   "execution_count": 3,
   "metadata": {},
   "outputs": [
    {
     "name": "stdout",
     "output_type": "stream",
     "text": [
      "First 5 rows of the dataset:\n",
      "   sepal_length  sepal_width  petal_length  petal_width species\n",
      "0           5.1          3.5           1.4          0.2  setosa\n",
      "1           4.9          3.0           1.4          0.2  setosa\n",
      "2           4.7          3.2           1.3          0.2  setosa\n",
      "3           4.6          3.1           1.5          0.2  setosa\n",
      "4           5.0          3.6           1.4          0.2  setosa\n",
      "\n",
      "Summary statistics:\n",
      "       sepal_length  sepal_width  petal_length  petal_width\n",
      "count    150.000000   150.000000    150.000000   150.000000\n",
      "mean       5.843333     3.057333      3.758000     1.199333\n",
      "std        0.828066     0.435866      1.765298     0.762238\n",
      "min        4.300000     2.000000      1.000000     0.100000\n",
      "25%        5.100000     2.800000      1.600000     0.300000\n",
      "50%        5.800000     3.000000      4.350000     1.300000\n",
      "75%        6.400000     3.300000      5.100000     1.800000\n",
      "max        7.900000     4.400000      6.900000     2.500000\n",
      "\n",
      "Checking for missing values:\n",
      "sepal_length    0\n",
      "sepal_width     0\n",
      "petal_length    0\n",
      "petal_width     0\n",
      "species         0\n",
      "dtype: int64\n"
     ]
    }
   ],
   "source": [
    "# Step 2: Explore the Data\n",
    "print(\"First 5 rows of the dataset:\")\n",
    "print(iris_data.head())\n",
    "\n",
    "print(\"\\nSummary statistics:\")\n",
    "print(iris_data.describe())\n",
    "\n",
    "print(\"\\nChecking for missing values:\")\n",
    "print(iris_data.isnull().sum())"
   ]
  },
  {
   "cell_type": "code",
   "execution_count": 4,
   "metadata": {},
   "outputs": [
    {
     "name": "stdout",
     "output_type": "stream",
     "text": [
      "\n",
      "DataFrame with Sepal Ratio:\n",
      "    sepal_length  sepal_width  sepal_ratio\n",
      "0           5.1          3.5     1.457143\n",
      "1           4.9          3.0     1.633333\n",
      "2           4.7          3.2     1.468750\n",
      "3           4.6          3.1     1.483871\n",
      "4           5.0          3.6     1.388889\n"
     ]
    }
   ],
   "source": [
    "# Step 3: Data Manipulation\n",
    "iris_data['sepal_ratio'] = iris_data['sepal_length'] / iris_data['sepal_width']\n",
    "print(\"\\nDataFrame with Sepal Ratio:\\n\", iris_data[['sepal_length', 'sepal_width', 'sepal_ratio']].head())"
   ]
  },
  {
   "cell_type": "code",
   "execution_count": 5,
   "metadata": {},
   "outputs": [
    {
     "name": "stdout",
     "output_type": "stream",
     "text": [
      "\n",
      "Average Measurements by Species:\n",
      "             sepal_length  sepal_width  petal_length  petal_width\n",
      "species                                                         \n",
      "setosa             5.006        3.428         1.462        0.246\n",
      "versicolor         5.936        2.770         4.260        1.326\n",
      "virginica          6.588        2.974         5.552        2.026\n"
     ]
    }
   ],
   "source": [
    "# Step 4: Group and Aggregate\n",
    "grouped_data = iris_data.groupby('species').mean()[['sepal_length', 'sepal_width', 'petal_length', 'petal_width']]\n",
    "print(\"\\nAverage Measurements by Species:\\n\", grouped_data)"
   ]
  },
  {
   "cell_type": "code",
   "execution_count": 6,
   "metadata": {},
   "outputs": [
    {
     "name": "stdout",
     "output_type": "stream",
     "text": [
      "\n",
      "For setosa:\n",
      " - Average Sepal Length: 5.01 cm\n",
      " - Average Sepal Width: 3.43 cm\n",
      " - Average Petal Length: 1.46 cm\n",
      " - Average Petal Width: 0.25 cm\n",
      "\n",
      "For versicolor:\n",
      " - Average Sepal Length: 5.94 cm\n",
      " - Average Sepal Width: 2.77 cm\n",
      " - Average Petal Length: 4.26 cm\n",
      " - Average Petal Width: 1.33 cm\n",
      "\n",
      "For virginica:\n",
      " - Average Sepal Length: 6.59 cm\n",
      " - Average Sepal Width: 2.97 cm\n",
      " - Average Petal Length: 5.55 cm\n",
      " - Average Petal Width: 2.03 cm\n"
     ]
    }
   ],
   "source": [
    "# Step 5: Summarize Findings\n",
    "for species, row in grouped_data.iterrows():\n",
    "    print(f\"\\nFor {species}:\")\n",
    "    print(f\" - Average Sepal Length: {row['sepal_length']:.2f} cm\")\n",
    "    print(f\" - Average Sepal Width: {row['sepal_width']:.2f} cm\")\n",
    "    print(f\" - Average Petal Length: {row['petal_length']:.2f} cm\")\n",
    "    print(f\" - Average Petal Width: {row['petal_width']:.2f} cm\")"
   ]
  }
 ],
 "metadata": {
  "kernelspec": {
   "display_name": "venv",
   "language": "python",
   "name": "python3"
  },
  "language_info": {
   "codemirror_mode": {
    "name": "ipython",
    "version": 3
   },
   "file_extension": ".py",
   "mimetype": "text/x-python",
   "name": "python",
   "nbconvert_exporter": "python",
   "pygments_lexer": "ipython3",
   "version": "3.12.6"
  }
 },
 "nbformat": 4,
 "nbformat_minor": 2
}
