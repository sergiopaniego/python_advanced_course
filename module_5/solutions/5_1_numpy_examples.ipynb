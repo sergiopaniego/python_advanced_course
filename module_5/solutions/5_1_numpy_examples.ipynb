{
 "cells": [
  {
   "cell_type": "markdown",
   "metadata": {},
   "source": [
    "**Exercise 1:** Create an array of 20 simulated temperature values and perform the following operations: \n",
    "* Calculate the mean, standard deviation, minimum, and maximum. \n",
    "* Add 2 degrees to each temperature value. \n",
    "* Reshape the array to a 4x5 matrix.\n"
   ]
  },
  {
   "cell_type": "code",
   "execution_count": 1,
   "metadata": {},
   "outputs": [
    {
     "name": "stdout",
     "output_type": "stream",
     "text": [
      "Mean temperature: 21.6\n",
      "Standard deviation: 2.2\n",
      "Minimum temperature: 17\n",
      "Maximum temperature: 25\n",
      "Temperatures after adding 2 degrees: [25 27 23 21 22 24 26 25 21 20 19 24 25 23 22 24 26 25 27 23]\n",
      "Reshaped temperatures: [[25 27 23 21 22]\n",
      " [24 26 25 21 20]\n",
      " [19 24 25 23 22]\n",
      " [24 26 25 27 23]]\n"
     ]
    }
   ],
   "source": [
    "import numpy as np\n",
    "\n",
    "# Create temperature array\n",
    "temperatures = np.array([23, 25, 21, 19, 20, 22, 24, 23, 19, 18, 17, 22, 23, 21, 20, 22, 24, 23, 25, 21])\n",
    "\n",
    "# Statistical calculations\n",
    "print(\"Mean temperature:\", np.mean(temperatures))\n",
    "print(\"Standard deviation:\", np.std(temperatures))\n",
    "print(\"Minimum temperature:\", np.min(temperatures))\n",
    "print(\"Maximum temperature:\", np.max(temperatures))\n",
    "\n",
    "# Add 2 degrees to each temperature value\n",
    "temperatures += 2\n",
    "print(\"Temperatures after adding 2 degrees:\", temperatures)\n",
    "\n",
    "# Reshape to 4x5\n",
    "reshaped_temperatures = temperatures.reshape(4, 5)\n",
    "print(\"Reshaped temperatures:\", reshaped_temperatures)\n",
    "\n"
   ]
  },
  {
   "cell_type": "markdown",
   "metadata": {},
   "source": [
    "**Exercise 2:** Given a quarterly sales array for two products, calculate the annual total and the quarterly average."
   ]
  },
  {
   "cell_type": "code",
   "execution_count": 2,
   "metadata": {},
   "outputs": [
    {
     "name": "stdout",
     "output_type": "stream",
     "text": [
      "Annual total sales for Product A: 9000\n",
      "Annual total sales for Product B: 7600\n",
      "Quarterly average sales for Product A: 2250.0\n",
      "Quarterly average sales for Product B: 1900.0\n"
     ]
    }
   ],
   "source": [
    "import numpy as np\n",
    "\n",
    "# Quarterly sales data for two products over four quarters\n",
    "product_A_sales = np.array([1500, 2000, 2500, 3000])  # Sales for Product A\n",
    "product_B_sales = np.array([1200, 1800, 2200, 2400])  # Sales for Product B\n",
    "\n",
    "# Calculate the annual total sales for each product\n",
    "annual_total_A = np.sum(product_A_sales)\n",
    "annual_total_B = np.sum(product_B_sales)\n",
    "\n",
    "# Calculate the quarterly average sales for each product\n",
    "quarterly_avg_A = np.mean(product_A_sales)\n",
    "quarterly_avg_B = np.mean(product_B_sales)\n",
    "\n",
    "# Print results\n",
    "print(\"Annual total sales for Product A:\", annual_total_A)\n",
    "print(\"Annual total sales for Product B:\", annual_total_B)\n",
    "print(\"Quarterly average sales for Product A:\", quarterly_avg_A)\n",
    "print(\"Quarterly average sales for Product B:\", quarterly_avg_B)\n"
   ]
  },
  {
   "cell_type": "markdown",
   "metadata": {},
   "source": [
    "**Exercise 3:** Use np.where to create a mask identifying values above the mean in the temperature array."
   ]
  },
  {
   "cell_type": "code",
   "execution_count": 3,
   "metadata": {},
   "outputs": [
    {
     "name": "stdout",
     "output_type": "stream",
     "text": [
      "Mean temperature: 21.6\n",
      "Mask of temperatures above the mean: [ True  True False False False  True  True  True False False False  True\n",
      "  True False False  True  True  True  True False]\n",
      "Temperatures above the mean: [23 25 22 24 23 22 23 22 24 23 25]\n"
     ]
    }
   ],
   "source": [
    "import numpy as np\n",
    "\n",
    "# Create the temperature array\n",
    "temperatures = np.array([23, 25, 21, 19, 20, 22, 24, 23, 19, 18, \n",
    "                         17, 22, 23, 21, 20, 22, 24, 23, 25, 21])\n",
    "\n",
    "# Calculate the mean temperature\n",
    "mean_temperature = np.mean(temperatures)\n",
    "print(\"Mean temperature:\", mean_temperature)\n",
    "\n",
    "# Use np.where to create a mask for values above the mean\n",
    "above_mean_mask = np.where(temperatures > mean_temperature, True, False)\n",
    "\n",
    "# Print the mask and the corresponding values\n",
    "print(\"Mask of temperatures above the mean:\", above_mean_mask)\n",
    "print(\"Temperatures above the mean:\", temperatures[above_mean_mask])\n"
   ]
  },
  {
   "cell_type": "code",
   "execution_count": null,
   "metadata": {},
   "outputs": [],
   "source": []
  }
 ],
 "metadata": {
  "kernelspec": {
   "display_name": "venv",
   "language": "python",
   "name": "python3"
  },
  "language_info": {
   "codemirror_mode": {
    "name": "ipython",
    "version": 3
   },
   "file_extension": ".py",
   "mimetype": "text/x-python",
   "name": "python",
   "nbconvert_exporter": "python",
   "pygments_lexer": "ipython3",
   "version": "3.12.6"
  }
 },
 "nbformat": 4,
 "nbformat_minor": 2
}
