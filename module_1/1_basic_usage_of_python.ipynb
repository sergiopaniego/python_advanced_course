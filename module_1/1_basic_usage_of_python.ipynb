{
  "cells": [
    {
      "cell_type": "markdown",
      "metadata": {
        "id": "Iz6TdUP-30fS"
      },
      "source": [
        "# 0. Tools to program using Python: notebook.\n",
        "* A notebook is divided in cells (code + markdown).\n",
        "* Learn more about markdown: https://www.markdowntutorial.com/ | Markdown cheatsheet: https://www.markdownguide.org/cheat-sheet/\n",
        "* Tips to work with notebooks: https://towardsdatascience.com/7-essential-tips-for-writing-with-jupyter-notebook-60972a1a8901\n",
        "\n",
        "---\n",
        "\n",
        "* Kernel concept.\n",
        "* See the machine state.\n",
        "* Access the directories space.\n",
        "\n",
        "<img src=\"https://docs.jupyter.org/en/latest/_images/notebook_components.png\"/>"
      ]
    },
    {
      "cell_type": "markdown",
      "metadata": {
        "id": "r8HGGjvn4odE"
      },
      "source": [
        "# 1. First program with Python: \"Hello World\""
      ]
    },
    {
      "cell_type": "markdown",
      "metadata": {
        "id": "Gm9d_l7B4yVo"
      },
      "source": [
        "**Hello World**"
      ]
    },
    {
      "cell_type": "code",
      "execution_count": 2,
      "metadata": {
        "colab": {
          "base_uri": "https://localhost:8080/"
        },
        "id": "DaU8Llpr3Df6",
        "outputId": "0f21a264-d6d7-41f7-9807-e26e2d349517"
      },
      "outputs": [
        {
          "name": "stdout",
          "output_type": "stream",
          "text": [
            "Hello World\n"
          ]
        }
      ],
      "source": [
        "# Hello World\n",
        "print('Hello World')"
      ]
    },
    {
      "cell_type": "markdown",
      "metadata": {
        "id": "3P3q8thf4z8Q"
      },
      "source": [
        "**Variable of type string and print**"
      ]
    },
    {
      "cell_type": "code",
      "execution_count": 3,
      "metadata": {
        "colab": {
          "base_uri": "https://localhost:8080/"
        },
        "id": "Zg_FpfUc4xH7",
        "outputId": "be4af8cf-580d-4785-d77f-e253857ae31b"
      },
      "outputs": [
        {
          "name": "stdout",
          "output_type": "stream",
          "text": [
            "Hello World\n"
          ]
        }
      ],
      "source": [
        "# Variable with type string and print\n",
        "text = 'Hello World'\n",
        "print(text)"
      ]
    },
    {
      "cell_type": "markdown",
      "metadata": {
        "id": "KUh4YBIm45RU"
      },
      "source": [
        "**One line comment**"
      ]
    },
    {
      "cell_type": "code",
      "execution_count": 4,
      "metadata": {
        "id": "l5DbMRQa46Tr"
      },
      "outputs": [],
      "source": [
        "# One line comment"
      ]
    },
    {
      "cell_type": "markdown",
      "metadata": {
        "id": "kmrGwVZUeOtW"
      },
      "source": [
        "**Multiline comment**"
      ]
    },
    {
      "cell_type": "code",
      "execution_count": 5,
      "metadata": {
        "colab": {
          "base_uri": "https://localhost:8080/",
          "height": 35
        },
        "id": "ocMZnFvP492f",
        "outputId": "e99f810d-0df7-4ed4-d99a-d9befd2b85a7"
      },
      "outputs": [
        {
          "data": {
            "text/plain": [
              "'\\nMultiline comment:\\n1.\\n2.\\n3.\\n'"
            ]
          },
          "execution_count": 5,
          "metadata": {},
          "output_type": "execute_result"
        }
      ],
      "source": [
        "'''\n",
        "Multiline comment:\n",
        "1.\n",
        "2.\n",
        "3.\n",
        "'''"
      ]
    },
    {
      "cell_type": "markdown",
      "metadata": {
        "id": "PaOQF6HveZFO"
      },
      "source": [
        "# 2. Variables\n",
        "\n",
        "* Name\n",
        "* Value\n",
        "* Data type"
      ]
    },
    {
      "cell_type": "markdown",
      "metadata": {
        "id": "hFei3Ep85GOw"
      },
      "source": [
        "**Declaration and use of variables**"
      ]
    },
    {
      "cell_type": "code",
      "execution_count": 6,
      "metadata": {
        "colab": {
          "base_uri": "https://localhost:8080/"
        },
        "id": "Hln82jpq5ENv",
        "outputId": "772d064c-8b9e-448b-80a3-875ff830af0b"
      },
      "outputs": [
        {
          "name": "stdout",
          "output_type": "stream",
          "text": [
            "Name: Juan\n",
            "Age: 25\n",
            "Height: 1.75\n",
            "Is a student? True\n"
          ]
        }
      ],
      "source": [
        "# Variable declaration\n",
        "name = \"Juan\"  # string\n",
        "age = 25  # integer\n",
        "height = 1.75  # float\n",
        "is_student = True  # boolean\n",
        "\n",
        "# Using variables\n",
        "print(\"Name:\", name)\n",
        "print(\"Age:\", age)\n",
        "print(\"Height:\", height)\n",
        "print(\"Is a student?\", is_student)"
      ]
    },
    {
      "cell_type": "markdown",
      "metadata": {
        "id": "72xBbaI7AfK2"
      },
      "source": [
        "**Change variable value**"
      ]
    },
    {
      "cell_type": "code",
      "execution_count": 7,
      "metadata": {
        "colab": {
          "base_uri": "https://localhost:8080/"
        },
        "id": "glI7d0LJAg1b",
        "outputId": "dfbfaacd-81e0-4e2e-a602-4a98c4378682"
      },
      "outputs": [
        {
          "name": "stdout",
          "output_type": "stream",
          "text": [
            "My favorite fruit is: apple\n",
            "My favorite fruit is now: banana\n"
          ]
        }
      ],
      "source": [
        "# Variable declaration\n",
        "fruit = \"apple\"\n",
        "\n",
        "# Display the value\n",
        "print(\"My favorite fruit is:\", fruit)\n",
        "\n",
        "# Change the value of the variable\n",
        "fruit = \"banana\"\n",
        "\n",
        "# Display the new value\n",
        "print(\"My favorite fruit is now:\", fruit)"
      ]
    },
    {
      "cell_type": "markdown",
      "metadata": {
        "id": "F3Ij1DHgAn-m"
      },
      "source": [
        "**Concatenation of variables**"
      ]
    },
    {
      "cell_type": "code",
      "execution_count": 8,
      "metadata": {
        "colab": {
          "base_uri": "https://localhost:8080/"
        },
        "id": "ABhy5B1dAmaG",
        "outputId": "5d52b7dd-e218-4749-c9c2-78d154cb289b"
      },
      "outputs": [
        {
          "name": "stdout",
          "output_type": "stream",
          "text": [
            "Hello, I am Ana and I am 30 years old.\n"
          ]
        }
      ],
      "source": [
        "# Variable declaration\n",
        "name = \"Ana\"\n",
        "age = 30\n",
        "\n",
        "# Concatenation of variables into a string\n",
        "message = \"Hello, I am \" + name + \" and I am \" + str(age) + \" years old.\"\n",
        "\n",
        "# Display the message\n",
        "print(message)"
      ]
    },
    {
      "cell_type": "markdown",
      "metadata": {
        "id": "s8WsmmThAt0s"
      },
      "source": [
        "**User interaction**"
      ]
    },
    {
      "cell_type": "code",
      "execution_count": 9,
      "metadata": {
        "colab": {
          "base_uri": "https://localhost:8080/"
        },
        "id": "XAvU5u16AvWH",
        "outputId": "c95ae4c8-8dad-4f3a-f43f-56a3864d9f49"
      },
      "outputs": [
        {
          "name": "stdout",
          "output_type": "stream",
          "text": [
            "Hello,  Welcome!\n"
          ]
        }
      ],
      "source": [
        "# Request user input and store it in a variable\n",
        "name = input(\"Please enter your name: \")\n",
        "\n",
        "# Display a personalized greeting\n",
        "print(\"Hello,\", name, \"Welcome!\")"
      ]
    },
    {
      "cell_type": "markdown",
      "metadata": {
        "id": "fiq52kvZAyu-"
      },
      "source": [
        "# 3. Data types"
      ]
    },
    {
      "cell_type": "markdown",
      "metadata": {
        "id": "tObsBzBpA5nm"
      },
      "source": [
        "**Declaration and use of variables**"
      ]
    },
    {
      "cell_type": "code",
      "execution_count": 10,
      "metadata": {
        "colab": {
          "base_uri": "https://localhost:8080/"
        },
        "id": "k32Xj8FuA4vM",
        "outputId": "499fde89-1430-41d7-9b71-5b2383ce7e26"
      },
      "outputs": [
        {
          "name": "stdout",
          "output_type": "stream",
          "text": [
            "Name: Juan\n",
            "Age: 25\n",
            "Height: 1.75\n",
            "Is a student? True\n"
          ]
        }
      ],
      "source": [
        "# Variable declarations with types\n",
        "name = \"Juan\" # string\n",
        "print(\"Name:\", name)\n",
        "\n",
        "age = 25  # integer\n",
        "print(\"Age:\", age)\n",
        "\n",
        "height = 1.75  # float\n",
        "print(\"Height:\", height)\n",
        "\n",
        "is_student = True  # boolean\n",
        "print(\"Is a student?\", is_student)"
      ]
    },
    {
      "cell_type": "markdown",
      "metadata": {
        "id": "ZffMZhaVBBcf"
      },
      "source": [
        "**More data types**"
      ]
    },
    {
      "cell_type": "code",
      "execution_count": 11,
      "metadata": {
        "colab": {
          "base_uri": "https://localhost:8080/"
        },
        "id": "v5l2zGa6BAhp",
        "outputId": "5b86c216-32fa-4e04-b8fe-db82aa2db67e"
      },
      "outputs": [
        {
          "name": "stdout",
          "output_type": "stream",
          "text": [
            "First number: 1\n",
            "Last number: 5\n"
          ]
        }
      ],
      "source": [
        "# Declaration of a list of numbers\n",
        "numbers = [1, 2, 3, 4, 5]\n",
        "\n",
        "# Accessing elements of the list\n",
        "first_number = numbers[0]\n",
        "last_number = numbers[-1]\n",
        "\n",
        "# Displaying elements\n",
        "print(\"First number:\", first_number)\n",
        "print(\"Last number:\", last_number)"
      ]
    },
    {
      "cell_type": "code",
      "execution_count": 12,
      "metadata": {
        "colab": {
          "base_uri": "https://localhost:8080/"
        },
        "id": "0077lIlqBI35",
        "outputId": "b5c2aa58-ade8-42d4-9fc3-d0e59c0558d5"
      },
      "outputs": [
        {
          "name": "stdout",
          "output_type": "stream",
          "text": [
            "First color: red\n",
            "Second color: green\n"
          ]
        }
      ],
      "source": [
        "# Declaration of a tuple of colors\n",
        "colors = (\"red\", \"green\", \"blue\")\n",
        "\n",
        "# Accessing elements of the tuple\n",
        "first_color = colors[0]\n",
        "second_color = colors[1]\n",
        "\n",
        "# Displaying colors\n",
        "print(\"First color:\", first_color)\n",
        "print(\"Second color:\", second_color)"
      ]
    },
    {
      "cell_type": "code",
      "execution_count": 13,
      "metadata": {
        "colab": {
          "base_uri": "https://localhost:8080/"
        },
        "id": "xAUA6rC-BUXR",
        "outputId": "23358228-43f9-4720-e74a-4c816cf67cc3"
      },
      "outputs": [
        {
          "name": "stdout",
          "output_type": "stream",
          "text": [
            "Common fruits: {'grape'}\n",
            "All fruits: {'orange', 'watermelon', 'apple', 'grape', 'banana'}\n"
          ]
        }
      ],
      "source": [
        "# Declaration of sets of fruits\n",
        "fruits1 = {\"apple\", \"banana\", \"grape\"}\n",
        "fruits2 = {\"orange\", \"grape\", \"watermelon\"}\n",
        "\n",
        "# Set operations\n",
        "common_fruits = fruits1.intersection(fruits2)\n",
        "all_fruits = fruits1.union(fruits2)\n",
        "\n",
        "# Display results\n",
        "print(\"Common fruits:\", common_fruits)\n",
        "print(\"All fruits:\", all_fruits)"
      ]
    },
    {
      "cell_type": "code",
      "execution_count": 14,
      "metadata": {
        "colab": {
          "base_uri": "https://localhost:8080/"
        },
        "id": "PVlERdN6BYap",
        "outputId": "330e1273-8462-491d-c4b1-b3d8ad8a0490"
      },
      "outputs": [
        {
          "name": "stdout",
          "output_type": "stream",
          "text": [
            "Name: Juan\n",
            "Age: 30\n"
          ]
        }
      ],
      "source": [
        "# Declaration of a dictionary with personal information\n",
        "information = {\n",
        "    \"name\": \"Juan\",\n",
        "    \"age\": 30,\n",
        "    \"city\": \"Madrid\"\n",
        "}\n",
        "\n",
        "# Accessing values using keys\n",
        "name = information[\"name\"]\n",
        "age = information[\"age\"]\n",
        "\n",
        "# Displaying information\n",
        "print(\"Name:\", name)\n",
        "print(\"Age:\", age)"
      ]
    },
    {
      "cell_type": "markdown",
      "metadata": {
        "id": "bVE2Z2jkBcAe"
      },
      "source": [
        "**Change data type to a new data type**"
      ]
    },
    {
      "cell_type": "code",
      "execution_count": 15,
      "metadata": {
        "colab": {
          "base_uri": "https://localhost:8080/"
        },
        "id": "ffj3VBjFBZkO",
        "outputId": "934b983a-5b0e-4e89-8c6a-f80ce4415937"
      },
      "outputs": [
        {
          "name": "stdout",
          "output_type": "stream",
          "text": [
            "Value:  1\n",
            "Value:  Hello!\n"
          ]
        }
      ],
      "source": [
        "variable = 1\n",
        "print('Value: ', variable)\n",
        "\n",
        "variable = 'Hello!'\n",
        "print('Value: ', variable)"
      ]
    },
    {
      "cell_type": "markdown",
      "metadata": {
        "id": "THYHU2ACBjkM"
      },
      "source": [
        "# 4. Operators"
      ]
    },
    {
      "cell_type": "code",
      "execution_count": 16,
      "metadata": {
        "colab": {
          "base_uri": "https://localhost:8080/"
        },
        "id": "4Xbw2cauBjE5",
        "outputId": "51a53b6e-c4f6-4c4c-d1a6-a2b39ea61833"
      },
      "outputs": [
        {
          "name": "stdout",
          "output_type": "stream",
          "text": [
            "Sum: 15\n",
            "Difference: 5\n",
            "Product: 50\n",
            "Quotient: 2.0\n"
          ]
        }
      ],
      "source": [
        "# Variable declarations\n",
        "number1 = 10\n",
        "number2 = 5\n",
        "\n",
        "# Perform operations\n",
        "sum_result = number1 + number2  # addition\n",
        "difference = number1 - number2  # subtraction\n",
        "product = number1 * number2  # multiplication\n",
        "quotient = number1 / number2  # division\n",
        "\n",
        "# Display results\n",
        "print(\"Sum:\", sum_result)\n",
        "print(\"Difference:\", difference)\n",
        "print(\"Product:\", product)\n",
        "print(\"Quotient:\", quotient)"
      ]
    },
    {
      "cell_type": "markdown",
      "metadata": {
        "id": "J0qzFpXJB_PT"
      },
      "source": [
        "**Sum given the input text**"
      ]
    },
    {
      "cell_type": "code",
      "execution_count": 17,
      "metadata": {
        "colab": {
          "base_uri": "https://localhost:8080/"
        },
        "id": "_kwh5nylB5tZ",
        "outputId": "9c553277-ab02-47aa-8edd-50ad773d1f70"
      },
      "outputs": [
        {
          "name": "stdout",
          "output_type": "stream",
          "text": [
            "The sum is: 12.0\n"
          ]
        }
      ],
      "source": [
        "# Addition of float variables and input\n",
        "num1 = input('Give me a number: ')\n",
        "num2 = input('Give me another: ')\n",
        "\n",
        "sum = float(num1) + float(num2)\n",
        "\n",
        "print('The sum is: {0}'.format(sum))"
      ]
    },
    {
      "cell_type": "markdown",
      "metadata": {
        "id": "J_4oss9yCB1B"
      },
      "source": [
        "**Advanced operators**"
      ]
    },
    {
      "cell_type": "code",
      "execution_count": 18,
      "metadata": {
        "colab": {
          "base_uri": "https://localhost:8080/"
        },
        "id": "OThXjLYaCAQh",
        "outputId": "3e425eff-a609-4966-cda4-d15c0eea07a9"
      },
      "outputs": [
        {
          "name": "stdout",
          "output_type": "stream",
          "text": [
            "Module: 1\n",
            "Exponentiation: 8\n"
          ]
        }
      ],
      "source": [
        "# Module (remainder of division)\n",
        "module_result = 9 % 4\n",
        "print(\"Module:\", module_result)\n",
        "\n",
        "# Exponentiation\n",
        "power_result = 2 ** 3\n",
        "print(\"Exponentiation:\", power_result)"
      ]
    },
    {
      "cell_type": "markdown",
      "metadata": {
        "id": "bg4358xfCFZB"
      },
      "source": [
        "**Comparison**"
      ]
    },
    {
      "cell_type": "code",
      "execution_count": 19,
      "metadata": {
        "colab": {
          "base_uri": "https://localhost:8080/"
        },
        "id": "V9zcDS6bCGdS",
        "outputId": "99280148-ca5d-4321-91a0-94d087c59a79"
      },
      "outputs": [
        {
          "name": "stdout",
          "output_type": "stream",
          "text": [
            "Equal to: True\n",
            "Not equal to: True\n",
            "Greater than: True\n",
            "Less than or equal to: True\n",
            "Combination: True\n"
          ]
        }
      ],
      "source": [
        "# Equal to\n",
        "equal_to = (5 == 5)\n",
        "\n",
        "# Not equal to\n",
        "not_equal_to = (6 != 3)\n",
        "\n",
        "# Greater than\n",
        "greater_than = (8 > 3)\n",
        "\n",
        "# Less than or equal to\n",
        "less_than_or_equal_to = (4 <= 4)\n",
        "\n",
        "# Combination of comparison operators\n",
        "combination = (7 < 10 and 3 >= 2)\n",
        "\n",
        "print(\"Equal to:\", equal_to)\n",
        "print(\"Not equal to:\", not_equal_to)\n",
        "print(\"Greater than:\", greater_than)\n",
        "print(\"Less than or equal to:\", less_than_or_equal_to)\n",
        "print(\"Combination:\", combination)\n"
      ]
    },
    {
      "cell_type": "markdown",
      "metadata": {
        "id": "KEjTLUBbCJi8"
      },
      "source": [
        "**Logic operators**"
      ]
    },
    {
      "cell_type": "code",
      "execution_count": 20,
      "metadata": {
        "colab": {
          "base_uri": "https://localhost:8080/"
        },
        "id": "J4lH8RwrCKt8",
        "outputId": "9ff27755-cd67-4a0f-90a4-7b4a61ab90fd"
      },
      "outputs": [
        {
          "name": "stdout",
          "output_type": "stream",
          "text": [
            "AND operator: False\n",
            "OR operator: True\n",
            "NOT operator: False\n"
          ]
        }
      ],
      "source": [
        "# AND operator\n",
        "result_and = True and False\n",
        "\n",
        "# OR operator\n",
        "result_or = True or False\n",
        "\n",
        "# NOT operator\n",
        "result_not = not True\n",
        "\n",
        "print(\"AND operator:\", result_and)\n",
        "print(\"OR operator:\", result_or)\n",
        "print(\"NOT operator:\", result_not)"
      ]
    },
    {
      "cell_type": "markdown",
      "metadata": {
        "id": "tN0lmr_iCQ86"
      },
      "source": [
        "**Assigment operators**"
      ]
    },
    {
      "cell_type": "code",
      "execution_count": 21,
      "metadata": {
        "colab": {
          "base_uri": "https://localhost:8080/"
        },
        "id": "-vUzMelTCST7",
        "outputId": "9ff31842-a9d0-43bf-8b6c-f0e47555501e"
      },
      "outputs": [
        {
          "name": "stdout",
          "output_type": "stream",
          "text": [
            "x: 5\n",
            "y: 13\n",
            "a: 1\n",
            "b: 2\n",
            "c: 3\n"
          ]
        }
      ],
      "source": [
        "# Simple assignment\n",
        "x = 5\n",
        "\n",
        "# Assignment with operation\n",
        "y = 10\n",
        "y += 3  # Equivalent to y = y + 3\n",
        "\n",
        "# Multiple assignment\n",
        "a, b, c = 1, 2, 3\n",
        "\n",
        "print(\"x:\", x)\n",
        "print(\"y:\", y)\n",
        "print(\"a:\", a)\n",
        "print(\"b:\", b)\n",
        "print(\"c:\", c)"
      ]
    },
    {
      "cell_type": "markdown",
      "metadata": {
        "id": "2L2of_KcCWgf"
      },
      "source": [
        "**Addition**"
      ]
    },
    {
      "cell_type": "code",
      "execution_count": 22,
      "metadata": {
        "colab": {
          "base_uri": "https://localhost:8080/"
        },
        "id": "Tkek_O2JCZb2",
        "outputId": "e50690d4-8031-47b8-ad7d-b1ea771b9127"
      },
      "outputs": [
        {
          "name": "stdout",
          "output_type": "stream",
          "text": [
            "The sum is: 5\n"
          ]
        }
      ],
      "source": [
        "# Sum of variables of type int and print\n",
        "num1 = 2\n",
        "num2 = 3\n",
        "sum_result = num1 + num2\n",
        "\n",
        "print('The sum is: {0}'.format(sum_result))\n"
      ]
    },
    {
      "cell_type": "markdown",
      "metadata": {
        "id": "nN3aoRQ5CcNL"
      },
      "source": [
        "# 5. Decision structures"
      ]
    },
    {
      "cell_type": "markdown",
      "metadata": {
        "id": "dSBDefJECist"
      },
      "source": [
        "**Simple decision structure 'if'**"
      ]
    },
    {
      "cell_type": "code",
      "execution_count": 23,
      "metadata": {
        "colab": {
          "base_uri": "https://localhost:8080/"
        },
        "id": "EWFed9guCdWw",
        "outputId": "e2a181bb-1411-4dc7-98f4-2076804a112e"
      },
      "outputs": [
        {
          "name": "stdout",
          "output_type": "stream",
          "text": [
            "You are of legal age.\n"
          ]
        }
      ],
      "source": [
        "age = 18\n",
        "\n",
        "if age >= 18:\n",
        "    print(\"You are of legal age.\")\n",
        "    \n"
      ]
    },
    {
      "cell_type": "markdown",
      "metadata": {
        "id": "fcl1D1qKCoQc"
      },
      "source": [
        "**Decision structure 'if/else'**"
      ]
    },
    {
      "cell_type": "code",
      "execution_count": 24,
      "metadata": {
        "colab": {
          "base_uri": "https://localhost:8080/"
        },
        "id": "PlgYOpwzCrZj",
        "outputId": "11b3be92-008f-4f76-efdb-4496c2de27fe"
      },
      "outputs": [
        {
          "name": "stdout",
          "output_type": "stream",
          "text": [
            "You are a minor.\n"
          ]
        }
      ],
      "source": [
        "age = 15\n",
        "\n",
        "if age >= 18:\n",
        "    print(\"You are of legal age.\")\n",
        "else:\n",
        "    print(\"You are a minor.\")\n"
      ]
    },
    {
      "cell_type": "markdown",
      "metadata": {
        "id": "wTwgGHTwCwDF"
      },
      "source": [
        "**Decision structure 'if/elif/else'**"
      ]
    },
    {
      "cell_type": "code",
      "execution_count": 25,
      "metadata": {
        "colab": {
          "base_uri": "https://localhost:8080/"
        },
        "id": "h_GIrwWeC1DO",
        "outputId": "e353fb91-bd48-4a46-c5f5-e91c0240269f"
      },
      "outputs": [
        {
          "name": "stdout",
          "output_type": "stream",
          "text": [
            "You have a B grade.\n"
          ]
        }
      ],
      "source": [
        "score = 85\n",
        "\n",
        "if score >= 90:\n",
        "    print(\"You have an A grade.\")\n",
        "elif score >= 80:\n",
        "    print(\"You have a B grade.\")\n",
        "elif score >= 70:\n",
        "    print(\"You have a C grade.\")\n",
        "else:\n",
        "    print(\"You have a D grade.\")"
      ]
    },
    {
      "cell_type": "markdown",
      "metadata": {
        "id": "ngWESc27C-Pl"
      },
      "source": [
        "**Nested decision structure**"
      ]
    },
    {
      "cell_type": "code",
      "execution_count": 26,
      "metadata": {
        "colab": {
          "base_uri": "https://localhost:8080/"
        },
        "id": "HvEbtZp-C_70",
        "outputId": "67461de4-c2ea-4705-8b71-40bbc02dbd4a"
      },
      "outputs": [
        {
          "name": "stdout",
          "output_type": "stream",
          "text": [
            "The weather is pleasant.\n"
          ]
        }
      ],
      "source": [
        "temperature = 28\n",
        "\n",
        "if temperature > 30:\n",
        "    print(\"It's very hot.\")\n",
        "    if temperature > 35:\n",
        "        print(\"It's an extremely hot day!\")\n",
        "elif temperature > 20:\n",
        "    print(\"The weather is pleasant.\")\n",
        "else:\n",
        "    print(\"It's cold.\")\n"
      ]
    },
    {
      "cell_type": "markdown",
      "metadata": {
        "id": "AGIYVZwFDBKw"
      },
      "source": [
        "**Ternary operator (if/else in one line)**"
      ]
    },
    {
      "cell_type": "code",
      "execution_count": 27,
      "metadata": {
        "colab": {
          "base_uri": "https://localhost:8080/"
        },
        "id": "4YOGfElNDFhd",
        "outputId": "b57e8ccd-8c4d-4522-d0c5-a3cc8d346a91"
      },
      "outputs": [
        {
          "name": "stdout",
          "output_type": "stream",
          "text": [
            "You are of legal age.\n"
          ]
        }
      ],
      "source": [
        "age = 20\n",
        "message = \"You are of legal age.\" if age >= 18 else \"You are a minor.\"\n",
        "print(message)\n"
      ]
    },
    {
      "cell_type": "markdown",
      "metadata": {
        "id": "DRiYmFj4d_CV"
      },
      "source": [
        "# 6. Repetition structures"
      ]
    },
    {
      "cell_type": "markdown",
      "metadata": {
        "id": "Pbx-vw_IDWRR"
      },
      "source": [
        "**While repetition structure**"
      ]
    },
    {
      "cell_type": "code",
      "execution_count": 28,
      "metadata": {
        "colab": {
          "base_uri": "https://localhost:8080/"
        },
        "id": "zN3DrIwDDLki",
        "outputId": "7bd554f2-49f0-4c4e-8082-a37b56fbc664"
      },
      "outputs": [
        {
          "name": "stdout",
          "output_type": "stream",
          "text": [
            "Iteration 0\n",
            "Iteration 1\n",
            "Iteration 2\n",
            "Iteration 3\n",
            "Iteration 4\n"
          ]
        }
      ],
      "source": [
        "counter = 0\n",
        "\n",
        "while counter < 5:\n",
        "    print(\"Iteration\", counter)\n",
        "    counter += 1\n"
      ]
    },
    {
      "cell_type": "markdown",
      "metadata": {
        "id": "g29LZFtsDSRn"
      },
      "source": [
        "**Repetition structure to iterate over a sequence**"
      ]
    },
    {
      "cell_type": "code",
      "execution_count": 29,
      "metadata": {
        "colab": {
          "base_uri": "https://localhost:8080/"
        },
        "id": "mbMn1n0mDPk7",
        "outputId": "80a1bdf8-727d-41a3-a75f-74bbb020fb2c"
      },
      "outputs": [
        {
          "name": "stdout",
          "output_type": "stream",
          "text": [
            "I like apple\n",
            "I like banana\n",
            "I like grape\n"
          ]
        }
      ],
      "source": [
        "fruits = [\"apple\", \"banana\", \"grape\"]\n",
        "\n",
        "for fruit in fruits:\n",
        "    print(\"I like\", fruit)"
      ]
    },
    {
      "cell_type": "markdown",
      "metadata": {
        "id": "AdrXWREZDcBX"
      },
      "source": [
        "**Repetition structure for with range() function**"
      ]
    },
    {
      "cell_type": "code",
      "execution_count": 30,
      "metadata": {
        "colab": {
          "base_uri": "https://localhost:8080/"
        },
        "id": "hp8nv3asDfI5",
        "outputId": "f3762f9d-98a1-424c-e93a-8333a84e1eb3"
      },
      "outputs": [
        {
          "name": "stdout",
          "output_type": "stream",
          "text": [
            "Number: 0\n",
            "Number: 1\n",
            "Number: 2\n",
            "Number: 3\n",
            "Number: 4\n"
          ]
        }
      ],
      "source": [
        "for i in range(5):\n",
        "    print(\"Number:\", i)"
      ]
    },
    {
      "cell_type": "markdown",
      "metadata": {
        "id": "1iKwPbEtDqIn"
      },
      "source": [
        "**Repetition structure for with a tuple**"
      ]
    },
    {
      "cell_type": "code",
      "execution_count": 31,
      "metadata": {
        "colab": {
          "base_uri": "https://localhost:8080/"
        },
        "id": "MGsf1SQdDu0n",
        "outputId": "46168d3c-c05c-426d-e8d8-4ac469f883f2"
      },
      "outputs": [
        {
          "name": "stdout",
          "output_type": "stream",
          "text": [
            "Color: red\n",
            "Color: green\n",
            "Color: blue\n"
          ]
        }
      ],
      "source": [
        "colors = (\"red\", \"green\", \"blue\")\n",
        "\n",
        "for color in colors:\n",
        "    print(\"Color:\", color)\n"
      ]
    },
    {
      "cell_type": "markdown",
      "metadata": {
        "id": "RRd-wPo4DwPU"
      },
      "source": [
        "**Repetition structure for with a dictionary**"
      ]
    },
    {
      "cell_type": "code",
      "execution_count": 32,
      "metadata": {
        "colab": {
          "base_uri": "https://localhost:8080/"
        },
        "id": "mekYbxpWD0m-",
        "outputId": "7bc98bbd-4343-4233-96b0-f460d510a708"
      },
      "outputs": [
        {
          "name": "stdout",
          "output_type": "stream",
          "text": [
            "name: Juan\n",
            "age: 30\n",
            "city: Madrid\n"
          ]
        }
      ],
      "source": [
        "information = {\n",
        "    \"name\": \"Juan\",\n",
        "    \"age\": 30,\n",
        "    \"city\": \"Madrid\"\n",
        "}\n",
        "\n",
        "for key, value in information.items():\n",
        "    print(key + \":\", value)\n"
      ]
    },
    {
      "cell_type": "markdown",
      "metadata": {
        "id": "vx88qeXFD7vh"
      },
      "source": [
        "**Repetition structure for with sets**"
      ]
    },
    {
      "cell_type": "code",
      "execution_count": 33,
      "metadata": {
        "colab": {
          "base_uri": "https://localhost:8080/"
        },
        "id": "SMbvT6RoD99W",
        "outputId": "b4a113b9-f003-409a-fb5b-9ae912835565"
      },
      "outputs": [
        {
          "name": "stdout",
          "output_type": "stream",
          "text": [
            "Common fruit: grape\n"
          ]
        }
      ],
      "source": [
        "fruits1 = {\"apple\", \"banana\", \"grape\"}\n",
        "fruits2 = {\"orange\", \"grape\", \"watermelon\"}\n",
        "\n",
        "common_fruits = fruits1.intersection(fruits2)\n",
        "\n",
        "for fruit in common_fruits:\n",
        "    print(\"Common fruit:\", fruit)\n"
      ]
    },
    {
      "cell_type": "markdown",
      "metadata": {
        "id": "RNZH9uStEEKE"
      },
      "source": [
        "**Repetition structure while with an exit condition**"
      ]
    },
    {
      "cell_type": "code",
      "execution_count": 34,
      "metadata": {
        "colab": {
          "base_uri": "https://localhost:8080/"
        },
        "id": "edApg8V5EJeB",
        "outputId": "9c723dd1-6a67-4add-bef9-c783fe309d78"
      },
      "outputs": [
        {
          "name": "stdout",
          "output_type": "stream",
          "text": [
            "Number: 0\n",
            "Number: 1\n",
            "Number: 2\n",
            "Number: 3\n",
            "Number: 4\n"
          ]
        }
      ],
      "source": [
        "number = 0\n",
        "\n",
        "while True:\n",
        "    if number == 5:\n",
        "        break  # Exits the loop if the number is 5\n",
        "    print(\"Number:\", number)\n",
        "    number += 1"
      ]
    },
    {
      "cell_type": "markdown",
      "metadata": {
        "id": "0nOwu1kdESJg"
      },
      "source": [
        "# 7. Functions"
      ]
    },
    {
      "cell_type": "markdown",
      "metadata": {
        "id": "XwWtzKrBEVsJ"
      },
      "source": [
        "**Definition and use of a simple function**"
      ]
    },
    {
      "cell_type": "code",
      "execution_count": 35,
      "metadata": {
        "colab": {
          "base_uri": "https://localhost:8080/"
        },
        "id": "OaKQmESuEUzR",
        "outputId": "ebfc82ac-179c-4806-fd75-df0fc52b7efa"
      },
      "outputs": [
        {
          "name": "stdout",
          "output_type": "stream",
          "text": [
            "Hello, Jon!\n",
            "Hello, Mary!\n"
          ]
        }
      ],
      "source": [
        "def greet(name):\n",
        "    print(\"Hello, \" + name + \"!\")\n",
        "\n",
        "greet(\"Jon\")\n",
        "greet(\"Mary\")"
      ]
    },
    {
      "cell_type": "markdown",
      "metadata": {
        "id": "j4GGvstjEgrQ"
      },
      "source": [
        "**Function with parameters and return value**"
      ]
    },
    {
      "cell_type": "code",
      "execution_count": 36,
      "metadata": {
        "colab": {
          "base_uri": "https://localhost:8080/"
        },
        "id": "iHjqfpKxEksJ",
        "outputId": "4700948d-7f2c-44b3-db07-462bb9f1a29d"
      },
      "outputs": [
        {
          "name": "stdout",
          "output_type": "stream",
          "text": [
            "Result of the addition: 8\n"
          ]
        }
      ],
      "source": [
        "def addition(a, b):\n",
        "    result = a + b\n",
        "    return result\n",
        "\n",
        "sum_result = addition(5, 3)\n",
        "print(\"Result of the addition:\", sum_result)"
      ]
    },
    {
      "cell_type": "markdown",
      "metadata": {
        "id": "Cl6W_NA7EooK"
      },
      "source": [
        "**Function with default parameters**"
      ]
    },
    {
      "cell_type": "code",
      "execution_count": 37,
      "metadata": {
        "colab": {
          "base_uri": "https://localhost:8080/"
        },
        "id": "ODAZMSA3Er0y",
        "outputId": "20d5ec1c-196b-4c27-ca81-c9e25c74c64e"
      },
      "outputs": [
        {
          "name": "stdout",
          "output_type": "stream",
          "text": [
            "Hello, Juan!\n",
            "Hello, Guest!\n"
          ]
        }
      ],
      "source": [
        "def greet(name=\"Guest\"):\n",
        "    print(\"Hello, \" + name + \"!\")\n",
        "\n",
        "greet(\"Juan\")\n",
        "greet()  # Uses the default value\n"
      ]
    },
    {
      "cell_type": "markdown",
      "metadata": {
        "id": "oA8MT8qbE-EJ"
      },
      "source": [
        "**Function with a variable number of paramenters (args)**"
      ]
    },
    {
      "cell_type": "code",
      "execution_count": 38,
      "metadata": {
        "colab": {
          "base_uri": "https://localhost:8080/"
        },
        "id": "vYtG8Sw5ExKB",
        "outputId": "4bcc7a53-f720-44f1-b269-80d965b40fbc"
      },
      "outputs": [
        {
          "name": "stdout",
          "output_type": "stream",
          "text": [
            "Total sum: 20\n"
          ]
        }
      ],
      "source": [
        "def add_multiple(*numbers):\n",
        "    result = 0\n",
        "    for number in numbers:\n",
        "        result += number\n",
        "    return result\n",
        "\n",
        "total = add_multiple(2, 4, 6, 8)\n",
        "print(\"Total sum:\", total)\n"
      ]
    },
    {
      "cell_type": "markdown",
      "metadata": {
        "id": "W3GFZpX4EuJh"
      },
      "source": [
        "**Function with keyword args**"
      ]
    },
    {
      "cell_type": "code",
      "execution_count": 39,
      "metadata": {
        "colab": {
          "base_uri": "https://localhost:8080/"
        },
        "id": "jBBIKEKuFHrF",
        "outputId": "0e13b809-15b6-4ca9-f795-3ade0e306a1c"
      },
      "outputs": [
        {
          "name": "stdout",
          "output_type": "stream",
          "text": [
            "Name: Ana\n",
            "Age: 30\n"
          ]
        }
      ],
      "source": [
        "def personal_information(name, age):\n",
        "    print(\"Name:\", name)\n",
        "    print(\"Age:\", age)\n",
        "\n",
        "personal_information(age=30, name=\"Ana\")\n"
      ]
    },
    {
      "cell_type": "markdown",
      "metadata": {
        "id": "RuEoePpoE0yK"
      },
      "source": [
        "**Anonymous function**"
      ]
    },
    {
      "cell_type": "code",
      "execution_count": 40,
      "metadata": {
        "colab": {
          "base_uri": "https://localhost:8080/"
        },
        "id": "rTHBQForFOTZ",
        "outputId": "6118019d-76f3-4e75-b5a2-a78a27a7147d"
      },
      "outputs": [
        {
          "name": "stdout",
          "output_type": "stream",
          "text": [
            "Double of 5: 10\n"
          ]
        }
      ],
      "source": [
        "double = lambda x: x * 2\n",
        "result = double(5)\n",
        "print(\"Double of 5:\", result)"
      ]
    },
    {
      "cell_type": "markdown",
      "metadata": {
        "id": "Tc6oju1yFUrw"
      },
      "source": [
        "**Recursive function**"
      ]
    },
    {
      "cell_type": "code",
      "execution_count": 41,
      "metadata": {
        "colab": {
          "base_uri": "https://localhost:8080/"
        },
        "id": "nu5SoTGaFV3X",
        "outputId": "89c2f004-8b13-41e1-a52a-a9f0cc191e95"
      },
      "outputs": [
        {
          "name": "stdout",
          "output_type": "stream",
          "text": [
            "Factorial of 5: 120\n"
          ]
        }
      ],
      "source": [
        "def factorial(n):\n",
        "    if n == 0:\n",
        "        return 1\n",
        "    else:\n",
        "        return n * factorial(n - 1)\n",
        "\n",
        "result = factorial(5)\n",
        "print(\"Factorial of 5:\", result)\n"
      ]
    },
    {
      "cell_type": "markdown",
      "metadata": {
        "id": "5j5Rj-ZbFbwE"
      },
      "source": [
        "**Another addition example**"
      ]
    },
    {
      "cell_type": "code",
      "execution_count": 42,
      "metadata": {
        "colab": {
          "base_uri": "https://localhost:8080/"
        },
        "id": "cOwSttZCFdR8",
        "outputId": "1739a645-4dc2-4a8c-ab0d-bddd8426d12e"
      },
      "outputs": [
        {
          "name": "stdout",
          "output_type": "stream",
          "text": [
            "The sum is: 5\n"
          ]
        }
      ],
      "source": [
        "num1 = 2\n",
        "num2 = 3\n",
        "\n",
        "def add(num1, num2):\n",
        "    return num1 + num2\n",
        "\n",
        "sum_result = add(num1, num2)\n",
        "\n",
        "print('The sum is: {0}'.format(sum_result))\n"
      ]
    },
    {
      "cell_type": "markdown",
      "metadata": {},
      "source": [
        "# 8. Reading and writing files"
      ]
    },
    {
      "cell_type": "markdown",
      "metadata": {},
      "source": [
        "**TXT files**"
      ]
    },
    {
      "cell_type": "code",
      "execution_count": 45,
      "metadata": {},
      "outputs": [
        {
          "name": "stdout",
          "output_type": "stream",
          "text": [
            "Hello, World!\n",
            "\n"
          ]
        }
      ],
      "source": [
        "with open(\"example.txt\", \"r\") as file:\n",
        "    content = file.read()\n",
        "    print(content)"
      ]
    },
    {
      "cell_type": "code",
      "execution_count": 46,
      "metadata": {},
      "outputs": [],
      "source": [
        "with open(\"example.txt\", \"w\") as file:\n",
        "    file.write(\"Hello, World!\\n\")"
      ]
    },
    {
      "cell_type": "markdown",
      "metadata": {},
      "source": [
        "**CSV files**"
      ]
    },
    {
      "cell_type": "code",
      "execution_count": 47,
      "metadata": {},
      "outputs": [
        {
          "name": "stdout",
          "output_type": "stream",
          "text": [
            "['Name', 'Age', 'City']\n",
            "['Alice', '30', 'New York']\n"
          ]
        }
      ],
      "source": [
        "import csv\n",
        "\n",
        "with open(\"data.csv\", newline='') as csvfile:\n",
        "    reader = csv.reader(csvfile)\n",
        "    for row in reader:\n",
        "        print(row)"
      ]
    },
    {
      "cell_type": "code",
      "execution_count": 48,
      "metadata": {},
      "outputs": [],
      "source": [
        "import csv\n",
        "\n",
        "with open(\"data.csv\", mode=\"w\", newline='') as csvfile:\n",
        "    writer = csv.writer(csvfile)\n",
        "    writer.writerow([\"Name\", \"Age\", \"City\"])\n",
        "    writer.writerow([\"Alice\", 30, \"New York\"])"
      ]
    },
    {
      "cell_type": "markdown",
      "metadata": {},
      "source": [
        "**JSON files**"
      ]
    },
    {
      "cell_type": "code",
      "execution_count": 49,
      "metadata": {},
      "outputs": [],
      "source": [
        "import json\n",
        "\n",
        "data = {\"name\": \"Alice\", \"age\": 30, \"city\": \"New York\"}\n",
        "\n",
        "with open(\"data.json\", \"w\") as jsonfile:\n",
        "    json.dump(data, jsonfile)"
      ]
    },
    {
      "cell_type": "code",
      "execution_count": 50,
      "metadata": {},
      "outputs": [
        {
          "name": "stdout",
          "output_type": "stream",
          "text": [
            "{'name': 'Alice', 'age': 30, 'city': 'New York'}\n"
          ]
        }
      ],
      "source": [
        "import json\n",
        "\n",
        "with open(\"data.json\", \"r\") as jsonfile:\n",
        "    data = json.load(jsonfile)\n",
        "    print(data)"
      ]
    },
    {
      "cell_type": "markdown",
      "metadata": {},
      "source": [
        "# 9. Errors and exceptions"
      ]
    },
    {
      "cell_type": "markdown",
      "metadata": {},
      "source": [
        "**Syntax error**"
      ]
    },
    {
      "cell_type": "code",
      "execution_count": 51,
      "metadata": {},
      "outputs": [
        {
          "ename": "SyntaxError",
          "evalue": "unexpected EOF while parsing (1357744799.py, line 3)",
          "output_type": "error",
          "traceback": [
            "\u001b[0;36m  Cell \u001b[0;32mIn[51], line 3\u001b[0;36m\u001b[0m\n\u001b[0;31m    print(\"Hello, world\"\u001b[0m\n\u001b[0m                        ^\u001b[0m\n\u001b[0;31mSyntaxError\u001b[0m\u001b[0;31m:\u001b[0m unexpected EOF while parsing\n"
          ]
        }
      ],
      "source": [
        "# Syntax error due to a missing parenthesis\n",
        "\n",
        "print(\"Hello, world\""
      ]
    },
    {
      "cell_type": "markdown",
      "metadata": {},
      "source": [
        "**Execution error**"
      ]
    },
    {
      "cell_type": "code",
      "execution_count": 52,
      "metadata": {},
      "outputs": [
        {
          "ename": "ZeroDivisionError",
          "evalue": "division by zero",
          "output_type": "error",
          "traceback": [
            "\u001b[0;31m---------------------------------------------------------------------------\u001b[0m",
            "\u001b[0;31mZeroDivisionError\u001b[0m                         Traceback (most recent call last)",
            "Cell \u001b[0;32mIn[52], line 1\u001b[0m\n\u001b[0;32m----> 1\u001b[0m number \u001b[38;5;241m=\u001b[39m \u001b[38;5;241;43m10\u001b[39;49m\u001b[43m \u001b[49m\u001b[38;5;241;43m/\u001b[39;49m\u001b[43m \u001b[49m\u001b[38;5;241;43m0\u001b[39;49m\n",
            "\u001b[0;31mZeroDivisionError\u001b[0m: division by zero"
          ]
        }
      ],
      "source": [
        "number = 10 / 0"
      ]
    },
    {
      "cell_type": "markdown",
      "metadata": {},
      "source": [
        "**Use of exception to capture the error and control it**"
      ]
    },
    {
      "cell_type": "code",
      "execution_count": 53,
      "metadata": {},
      "outputs": [
        {
          "name": "stdout",
          "output_type": "stream",
          "text": [
            "A division by zero error occurred\n"
          ]
        }
      ],
      "source": [
        "try:\n",
        "    number = 10 / 0  # This will raise a ZeroDivisionError\n",
        "except ZeroDivisionError:\n",
        "    print(\"A division by zero error occurred\")"
      ]
    },
    {
      "cell_type": "markdown",
      "metadata": {},
      "source": [
        "**Example with 'NameError'**"
      ]
    },
    {
      "cell_type": "code",
      "execution_count": 54,
      "metadata": {},
      "outputs": [
        {
          "ename": "NameError",
          "evalue": "name 'undefined_variable' is not defined",
          "output_type": "error",
          "traceback": [
            "\u001b[0;31m---------------------------------------------------------------------------\u001b[0m",
            "\u001b[0;31mNameError\u001b[0m                                 Traceback (most recent call last)",
            "Cell \u001b[0;32mIn[54], line 2\u001b[0m\n\u001b[1;32m      1\u001b[0m \u001b[38;5;66;03m# Raises a NameError because the variable 'undefined_variable' is not defined\u001b[39;00m\n\u001b[0;32m----> 2\u001b[0m \u001b[38;5;28mprint\u001b[39m(\u001b[43mundefined_variable\u001b[49m)\n",
            "\u001b[0;31mNameError\u001b[0m: name 'undefined_variable' is not defined"
          ]
        }
      ],
      "source": [
        "# Raises a NameError because the variable 'undefined_variable' is not defined\n",
        "print(undefined_variable)"
      ]
    },
    {
      "cell_type": "code",
      "execution_count": 55,
      "metadata": {},
      "outputs": [
        {
          "name": "stdout",
          "output_type": "stream",
          "text": [
            "Variable 'undefince_variable' is not defined\n"
          ]
        }
      ],
      "source": [
        "try:\n",
        "    print(undefined_variable)\n",
        "except NameError:\n",
        "    print(\"Variable 'undefince_variable' is not defined\")"
      ]
    },
    {
      "cell_type": "markdown",
      "metadata": {},
      "source": [
        "**Example 'TypeError'**"
      ]
    },
    {
      "cell_type": "code",
      "execution_count": 56,
      "metadata": {},
      "outputs": [
        {
          "ename": "TypeError",
          "evalue": "can only concatenate str (not \"int\") to str",
          "output_type": "error",
          "traceback": [
            "\u001b[0;31m---------------------------------------------------------------------------\u001b[0m",
            "\u001b[0;31mTypeError\u001b[0m                                 Traceback (most recent call last)",
            "Cell \u001b[0;32mIn[56], line 2\u001b[0m\n\u001b[1;32m      1\u001b[0m \u001b[38;5;66;03m# Generates a TypeError because you're trying to add a string with a integer.\u001b[39;00m\n\u001b[0;32m----> 2\u001b[0m result \u001b[38;5;241m=\u001b[39m \u001b[38;5;124;43m\"\u001b[39;49m\u001b[38;5;124;43m10\u001b[39;49m\u001b[38;5;124;43m\"\u001b[39;49m\u001b[43m \u001b[49m\u001b[38;5;241;43m+\u001b[39;49m\u001b[43m \u001b[49m\u001b[38;5;241;43m5\u001b[39;49m\n",
            "\u001b[0;31mTypeError\u001b[0m: can only concatenate str (not \"int\") to str"
          ]
        }
      ],
      "source": [
        "# Generates a TypeError because you're trying to add a string with a integer.\n",
        "result = \"10\" + 5"
      ]
    },
    {
      "cell_type": "code",
      "execution_count": 57,
      "metadata": {},
      "outputs": [
        {
          "name": "stdout",
          "output_type": "stream",
          "text": [
            "Type Error: Cannot add a string and an integer\n"
          ]
        }
      ],
      "source": [
        "try:\n",
        "    result = \"10\" + 5\n",
        "except TypeError:\n",
        "    print(\"Type Error: Cannot add a string and an integer\")"
      ]
    },
    {
      "cell_type": "markdown",
      "metadata": {},
      "source": [
        "**Multiple exceptions**"
      ]
    },
    {
      "cell_type": "code",
      "execution_count": 59,
      "metadata": {},
      "outputs": [
        {
          "name": "stdout",
          "output_type": "stream",
          "text": [
            "You can't divide by zero!\n"
          ]
        }
      ],
      "source": [
        "try:\n",
        "    num = int(input(\"Enter a number: \"))\n",
        "    result = 10 / num\n",
        "except ValueError:\n",
        "    print(\"That's not a valid number!\")\n",
        "except ZeroDivisionError:\n",
        "    print(\"You can't divide by zero!\")"
      ]
    },
    {
      "cell_type": "markdown",
      "metadata": {},
      "source": [
        "**Use of finally**"
      ]
    },
    {
      "cell_type": "code",
      "execution_count": 60,
      "metadata": {},
      "outputs": [],
      "source": [
        "try:\n",
        "    file = open(\"example.txt\", \"r\")\n",
        "    content = file.read()\n",
        "except FileNotFoundError:\n",
        "    print(\"File not found!\")\n",
        "finally:\n",
        "    file.close()  # This always runs, even if an exception occurs"
      ]
    },
    {
      "cell_type": "markdown",
      "metadata": {},
      "source": [
        "# 10. Object oriented programming"
      ]
    },
    {
      "cell_type": "code",
      "execution_count": 62,
      "metadata": {},
      "outputs": [
        {
          "name": "stdout",
          "output_type": "stream",
          "text": [
            "Pikachu attacks Charmander with a power of 20 points.\n",
            "Charmander dodges an attack.\n",
            "Pikachu has evolved into Raichu!\n",
            "Raichu has 100 health points.\n",
            "Charmander has 70 health points.\n"
          ]
        }
      ],
      "source": [
        "class Pokemon:\n",
        "    def __init__(self, name, type, health):\n",
        "        self.name = name\n",
        "        self.type = type\n",
        "        self.health = health\n",
        "\n",
        "    def attack(self, target, power):\n",
        "        print(f\"{self.name} attacks {target.name} with a power of {power} points.\")\n",
        "        target.health -= power\n",
        "\n",
        "    def dodge(self):\n",
        "        print(f\"{self.name} dodges an attack.\")\n",
        "\n",
        "    def evolve(self, new_form):\n",
        "        print(f\"{self.name} has evolved into {new_form}!\")\n",
        "        self.name = new_form\n",
        "\n",
        "# Create a Pokémon named Pikachu\n",
        "pikachu = Pokemon(\"Pikachu\", \"Electric\", 100)\n",
        "\n",
        "# Create another Pokémon named Charmander\n",
        "charmander = Pokemon(\"Charmander\", \"Fire\", 90)\n",
        "\n",
        "# Pikachu attacks Charmander\n",
        "pikachu.attack(charmander, 20)\n",
        "\n",
        "# Charmander dodges Pikachu's attack\n",
        "charmander.dodge()\n",
        "\n",
        "# Pikachu evolves into Raichu\n",
        "pikachu.evolve(\"Raichu\")\n",
        "\n",
        "# Display information about the Pokémon\n",
        "print(f\"{pikachu.name} has {pikachu.health} health points.\")\n",
        "print(f\"{charmander.name} has {charmander.health} health points.\")"
      ]
    },
    {
      "cell_type": "markdown",
      "metadata": {},
      "source": [
        "**Encapsulation**"
      ]
    },
    {
      "cell_type": "code",
      "execution_count": 69,
      "metadata": {},
      "outputs": [
        {
          "name": "stdout",
          "output_type": "stream",
          "text": [
            "Charmander's health: 90\n",
            "Pikachu attacks Charmander with a power of 20 points.\n",
            "Charmander's health is now 70.\n",
            "Charmander's health: 70\n"
          ]
        }
      ],
      "source": [
        "class Pokemon:\n",
        "    def __init__(self, name, type, health):\n",
        "        self.name = name\n",
        "        self.type = type\n",
        "        self.__health = health  # Private attribute\n",
        "\n",
        "    def attack(self, target, power):\n",
        "        print(f\"{self.name} attacks {target.name} with a power of {power} points.\")\n",
        "        target.__reduce_health(power)  # Accessing target's private method\n",
        "\n",
        "    def __reduce_health(self, amount):\n",
        "        self.__health -= amount\n",
        "        print(f\"{self.name}'s health is now {self.__health}.\")\n",
        "\n",
        "    def get_health(self):\n",
        "        return self.__health  # Getter to access private attribute\n",
        "\n",
        "# Create two Pokémon\n",
        "pikachu = Pokemon(\"Pikachu\", \"Electric\", 100)\n",
        "charmander = Pokemon(\"Charmander\", \"Fire\", 90)\n",
        "\n",
        "print(f\"{charmander.name}'s health: {charmander.get_health()}\")\n",
        "# Pikachu attacks Charmander\n",
        "pikachu.attack(charmander, 20)\n",
        "print(f\"{charmander.name}'s health: {charmander.get_health()}\")\n"
      ]
    },
    {
      "cell_type": "markdown",
      "metadata": {},
      "source": [
        "**Inheritance**"
      ]
    },
    {
      "cell_type": "code",
      "execution_count": 70,
      "metadata": {},
      "outputs": [
        {
          "name": "stdout",
          "output_type": "stream",
          "text": [
            "Pikachu uses Thunderbolt on Charmander!\n",
            "Pikachu attacks Charmander with a power of 25 points.\n",
            "Charmander's health is now 65.\n",
            "Charmander uses Flamethrower on Pikachu!\n",
            "Charmander attacks Pikachu with a power of 30 points.\n",
            "Pikachu's health is now 70.\n"
          ]
        }
      ],
      "source": [
        "class ElectricPokemon(Pokemon):\n",
        "    def thunderbolt(self, target):\n",
        "        print(f\"{self.name} uses Thunderbolt on {target.name}!\")\n",
        "        self.attack(target, 25)\n",
        "\n",
        "class FirePokemon(Pokemon):\n",
        "    def flamethrower(self, target):\n",
        "        print(f\"{self.name} uses Flamethrower on {target.name}!\")\n",
        "        self.attack(target, 30)\n",
        "\n",
        "# Create specific Pokémon\n",
        "pikachu = ElectricPokemon(\"Pikachu\", \"Electric\", 100)\n",
        "charmander = FirePokemon(\"Charmander\", \"Fire\", 90)\n",
        "\n",
        "# Special attacks\n",
        "pikachu.thunderbolt(charmander)\n",
        "charmander.flamethrower(pikachu)"
      ]
    },
    {
      "cell_type": "markdown",
      "metadata": {},
      "source": [
        "**Polymorphism**"
      ]
    },
    {
      "cell_type": "code",
      "execution_count": 74,
      "metadata": {},
      "outputs": [
        {
          "name": "stdout",
          "output_type": "stream",
          "text": [
            "Pikachu uses Thunderbolt on Charmander!\n",
            "Charmander uses Flamethrower on Charmander!\n",
            "Bulbasaur uses Vine Whip on Charmander!\n"
          ]
        }
      ],
      "source": [
        "class Pokemon:\n",
        "    def __init__(self, name, type, health):\n",
        "        self.name = name\n",
        "        self.type = type\n",
        "        self.health = health\n",
        "\n",
        "    def attack(self, target):\n",
        "        # This is a generic attack method. \n",
        "        # Specific Pokémon classes will override this method.\n",
        "        print(f\"{self.name} attacks {target.name}!\")\n",
        "\n",
        "class Pikachu(Pokemon):\n",
        "    def attack(self, target):\n",
        "        print(f\"{self.name} uses Thunderbolt on {target.name}!\")\n",
        "\n",
        "class Charmander(Pokemon):\n",
        "    def attack(self, target):\n",
        "        print(f\"{self.name} uses Flamethrower on {target.name}!\")\n",
        "\n",
        "class Bulbasaur(Pokemon):\n",
        "    def attack(self, target):\n",
        "        print(f\"{self.name} uses Vine Whip on {target.name}!\")\n",
        "\n",
        "# Create Pokémon instances\n",
        "pikachu = Pikachu(\"Pikachu\", \"Electric\", 100)\n",
        "charmander = Charmander(\"Charmander\", \"Fire\", 90)\n",
        "bulbasaur = Bulbasaur(\"Bulbasaur\", \"Grass\", 80)\n",
        "\n",
        "# Create a list of Pokémon\n",
        "pokemon_list = [pikachu, charmander, bulbasaur]\n",
        "\n",
        "# Make each Pokémon attack a target\n",
        "for attacker in pokemon_list:\n",
        "    attacker.attack(charmander)  # All will attack Charmander\n"
      ]
    },
    {
      "cell_type": "markdown",
      "metadata": {},
      "source": [
        "**Abstraction**"
      ]
    },
    {
      "cell_type": "code",
      "execution_count": 75,
      "metadata": {},
      "outputs": [
        {
          "name": "stdout",
          "output_type": "stream",
          "text": [
            "Pikachu uses Thunderbolt on Charmander!\n",
            "Pikachu attacks Charmander with 25 power points.\n",
            "Charmander uses Flamethrower on Pikachu!\n",
            "Charmander attacks Pikachu with 30 power points.\n"
          ]
        }
      ],
      "source": [
        "from abc import ABC, abstractmethod\n",
        "\n",
        "class Pokemon(ABC):\n",
        "    def __init__(self, name, type, health):\n",
        "        self.name = name\n",
        "        self.type = type\n",
        "        self.health = health\n",
        "\n",
        "    @abstractmethod\n",
        "    def special_move(self, target):\n",
        "        pass  # Abstract method\n",
        "\n",
        "class ElectricPokemon(Pokemon):\n",
        "    def special_move(self, target):\n",
        "        print(f\"{self.name} uses Thunderbolt on {target.name}!\")\n",
        "        self.attack(target, 25)\n",
        "\n",
        "    def attack(self, target, power):\n",
        "        print(f\"{self.name} attacks {target.name} with {power} power points.\")\n",
        "        target.health -= power\n",
        "\n",
        "class FirePokemon(Pokemon):\n",
        "    def special_move(self, target):\n",
        "        print(f\"{self.name} uses Flamethrower on {target.name}!\")\n",
        "        self.attack(target, 30)\n",
        "\n",
        "    def attack(self, target, power):\n",
        "        print(f\"{self.name} attacks {target.name} with {power} power points.\")\n",
        "        target.health -= power\n",
        "\n",
        "# Usage\n",
        "pikachu = ElectricPokemon(\"Pikachu\", \"Electric\", 100)\n",
        "charmander = FirePokemon(\"Charmander\", \"Fire\", 90)\n",
        "\n",
        "pikachu.special_move(charmander)\n",
        "charmander.special_move(pikachu)"
      ]
    },
    {
      "cell_type": "markdown",
      "metadata": {},
      "source": [
        "# Exercises"
      ]
    },
    {
      "cell_type": "markdown",
      "metadata": {},
      "source": [
        "**Exercise 1: Variables and Types**\n",
        "\n",
        "Create a set of variables of different types and print their types."
      ]
    },
    {
      "cell_type": "code",
      "execution_count": null,
      "metadata": {},
      "outputs": [],
      "source": []
    },
    {
      "cell_type": "markdown",
      "metadata": {},
      "source": [
        "**Exercise 2: Type Conversion**\n",
        "\n",
        "Convert an integer to a float and a float to an integer. Then, print the results."
      ]
    },
    {
      "cell_type": "code",
      "execution_count": null,
      "metadata": {},
      "outputs": [],
      "source": []
    },
    {
      "cell_type": "markdown",
      "metadata": {},
      "source": [
        "**Exercise 3: Lists**\n",
        "\n",
        "Create a list of items (e.g., groceries) and perform basic operations (add, remove, slice)."
      ]
    },
    {
      "cell_type": "code",
      "execution_count": null,
      "metadata": {},
      "outputs": [],
      "source": []
    },
    {
      "cell_type": "markdown",
      "metadata": {},
      "source": [
        "**Exercise 4: Dictionaries**\n",
        "\n",
        "Create a dictionary to store contact information (name, phone, email)."
      ]
    },
    {
      "cell_type": "code",
      "execution_count": null,
      "metadata": {},
      "outputs": [],
      "source": []
    },
    {
      "cell_type": "markdown",
      "metadata": {},
      "source": [
        "**Exercise 5: Conditionals**\n",
        "\n",
        "Write a program that asks for the user's age and prints a message based on the input."
      ]
    },
    {
      "cell_type": "code",
      "execution_count": null,
      "metadata": {},
      "outputs": [],
      "source": []
    },
    {
      "cell_type": "markdown",
      "metadata": {},
      "source": [
        "**Exercise 6: Loops**\n",
        "\n",
        "Write a program that prints the first 10 numbers in a list using a for loop."
      ]
    },
    {
      "cell_type": "code",
      "execution_count": null,
      "metadata": {},
      "outputs": [],
      "source": []
    },
    {
      "cell_type": "markdown",
      "metadata": {},
      "source": [
        "**Exercise 7: Basic Function**\n",
        "\n",
        "Write a function that takes two numbers as arguments and returns their sum."
      ]
    },
    {
      "cell_type": "code",
      "execution_count": null,
      "metadata": {},
      "outputs": [],
      "source": []
    },
    {
      "cell_type": "markdown",
      "metadata": {},
      "source": [
        "**Exercise 8: Reading and writing files**\n",
        "\n",
        "Create a JSON file with some employee data (name, age, department). \n",
        "\n",
        "Read the file using the methods and print them.\n",
        "\n",
        "Change some data and save it again.\n"
      ]
    },
    {
      "cell_type": "code",
      "execution_count": null,
      "metadata": {},
      "outputs": [],
      "source": []
    },
    {
      "cell_type": "markdown",
      "metadata": {},
      "source": [
        "**Exercise 9: Errors and exceptions**\n",
        "\n",
        "Generate a function that asks the user for a filename.\n",
        "\n",
        "Use try-except to handle possible errors if the file is not present or is there are issues when reading the file.\n",
        "\n",
        "Add a finally block.\n"
      ]
    },
    {
      "cell_type": "code",
      "execution_count": null,
      "metadata": {},
      "outputs": [],
      "source": []
    },
    {
      "cell_type": "markdown",
      "metadata": {},
      "source": [
        "**Exercise 10: Object oriented programming**\n",
        "\n",
        "Library Management System\n",
        "\n",
        "In this activity, you’ll build a mini-library management system where users can borrow and return books. This project will reinforce OOP principles, including classes, inheritance, polymorphism, and encapsulation.\n",
        "\n",
        "---\n",
        "\n",
        "## Instructions\n",
        "\n",
        "1. **Define a `Book` Class:**\n",
        "   - The `Book` class should have attributes for `title`, `author`, and `is_borrowed` (a boolean indicating if the book is currently borrowed).\n",
        "   - Include methods `borrow()` and `return_book()` to update the book's status. Ensure that these methods check if the book can be borrowed or returned, respectively.\n",
        "\n",
        "2. **Create a `Library` Class:**\n",
        "   - The `Library` class should have an attribute `books`, which is a list that stores all available books.\n",
        "   - Implement methods to `add_book()` and `remove_book()` from the library.\n",
        "   - Add a method `list_books()` to display all books and their status (borrowed or available).\n",
        "\n",
        "3. **Add Inheritance:**\n",
        "   - Create a `DigitalLibrary` subclass of `Library` to represent a library that lends digital books.\n",
        "   - Add an additional `borrow_period` attribute and a `download_link` for each book.\n",
        "   - Override the `borrow()` method to display the download link and borrow period.\n",
        "\n",
        "4. **Polymorphism with a `User` Class:**\n",
        "   - Create a `User` class that can interact with the library. Users should have `name` and `borrowed_books` attributes.\n",
        "   - The `User` class should include a method `borrow_book(library, book_title)` that allows the user to borrow a book from any type of library (polymorphism).\n",
        "   - Also, add a `return_book(library, book_title)` method for returning books to the library.\n",
        "\n",
        "5. **Encapsulation and Error Handling:**\n",
        "   - Ensure books can’t be borrowed more than once.\n",
        "   - Handle potential errors, such as trying to borrow a book that doesn't exist in the library or returning a book not borrowed by the user.\n",
        "\n",
        "---\n",
        "\n",
        "## Example Usage\n",
        "\n",
        "```python\n",
        "# Create books\n",
        "book1 = Book(\"The Great Gatsby\", \"F. Scott Fitzgerald\")\n",
        "book2 = Book(\"1984\", \"George Orwell\")\n",
        "\n",
        "# Create a Library and add books to it\n",
        "library = Library()\n",
        "library.add_book(book1)\n",
        "library.add_book(book2)\n",
        "\n",
        "# Create a user and let them interact with the library\n",
        "user = User(\"Alice\")\n",
        "user.borrow_book(library, \"1984\")\n",
        "user.return_book(library, \"1984\")\n",
        "\n",
        "# List all books in the library\n",
        "library.list_books()\n",
        "\n"
      ]
    },
    {
      "cell_type": "code",
      "execution_count": null,
      "metadata": {},
      "outputs": [],
      "source": []
    },
    {
      "cell_type": "markdown",
      "metadata": {},
      "source": [
        "**Project: Small Python Program**\n",
        "\n",
        "Create a program that uses at least:\n",
        "* One function.\n",
        "* One conditional statement.\n",
        "* A loop.\n",
        "* Different data types (e.g., list, dictionary).\n",
        "* Classes and objects\n",
        "\n",
        "Example: Write a program that asks the user to input a list of expenses and then calculates the total cost."
      ]
    },
    {
      "cell_type": "code",
      "execution_count": null,
      "metadata": {},
      "outputs": [],
      "source": []
    }
  ],
  "metadata": {
    "colab": {
      "provenance": []
    },
    "kernelspec": {
      "display_name": "Python 3",
      "name": "python3"
    },
    "language_info": {
      "codemirror_mode": {
        "name": "ipython",
        "version": 3
      },
      "file_extension": ".py",
      "mimetype": "text/x-python",
      "name": "python",
      "nbconvert_exporter": "python",
      "pygments_lexer": "ipython3",
      "version": "3.9.6"
    }
  },
  "nbformat": 4,
  "nbformat_minor": 0
}
