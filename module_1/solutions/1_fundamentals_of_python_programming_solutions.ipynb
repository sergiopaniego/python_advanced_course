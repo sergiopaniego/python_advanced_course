{
  "cells": [
    {
      "cell_type": "markdown",
      "metadata": {},
      "source": [
        "# Exercises"
      ]
    },
    {
      "cell_type": "markdown",
      "metadata": {},
      "source": [
        "**Exercise 1: Variables and Types**\n",
        "\n",
        "Create a set of variables of different types and print their types."
      ]
    },
    {
      "cell_type": "code",
      "execution_count": 1,
      "metadata": {},
      "outputs": [
        {
          "name": "stdout",
          "output_type": "stream",
          "text": [
            "Type of integer_var: <class 'int'>\n",
            "Type of float_var: <class 'float'>\n",
            "Type of string_var: <class 'str'>\n",
            "Type of boolean_var: <class 'bool'>\n",
            "Type of list_var: <class 'list'>\n",
            "Type of tuple_var: <class 'tuple'>\n",
            "Type of dict_var: <class 'dict'>\n",
            "Type of set_var: <class 'set'>\n"
          ]
        }
      ],
      "source": [
        "# Define variables of different types\n",
        "integer_var = 10          # Integer\n",
        "float_var = 3.14          # Float\n",
        "string_var = \"Hello\"      # String\n",
        "boolean_var = True        # Boolean\n",
        "list_var = [1, 2, 3]      # List\n",
        "tuple_var = (4, 5, 6)     # Tuple\n",
        "dict_var = {\"a\": 1, \"b\": 2} # Dictionary\n",
        "set_var = {7, 8, 9}       # Set\n",
        "\n",
        "# Print the types of each variable\n",
        "print(\"Type of integer_var:\", type(integer_var))\n",
        "print(\"Type of float_var:\", type(float_var))\n",
        "print(\"Type of string_var:\", type(string_var))\n",
        "print(\"Type of boolean_var:\", type(boolean_var))\n",
        "print(\"Type of list_var:\", type(list_var))\n",
        "print(\"Type of tuple_var:\", type(tuple_var))\n",
        "print(\"Type of dict_var:\", type(dict_var))\n",
        "print(\"Type of set_var:\", type(set_var))\n"
      ]
    },
    {
      "cell_type": "markdown",
      "metadata": {},
      "source": [
        "**Exercise 2: Type Conversion**\n",
        "\n",
        "Convert an integer to a float and a float to an integer. Then, print the results."
      ]
    },
    {
      "cell_type": "code",
      "execution_count": 2,
      "metadata": {},
      "outputs": [
        {
          "name": "stdout",
          "output_type": "stream",
          "text": [
            "Integer to float: 42.0\n",
            "Float to integer: 3\n"
          ]
        }
      ],
      "source": [
        "# Define an integer and a float\n",
        "integer_var = 42\n",
        "float_var = 3.99\n",
        "\n",
        "# Convert integer to float\n",
        "converted_to_float = float(integer_var)\n",
        "\n",
        "# Convert float to integer\n",
        "converted_to_int = int(float_var)\n",
        "\n",
        "# Print the results\n",
        "print(\"Integer to float:\", converted_to_float)\n",
        "print(\"Float to integer:\", converted_to_int)\n"
      ]
    },
    {
      "cell_type": "markdown",
      "metadata": {},
      "source": [
        "**Exercise 3: Lists**\n",
        "\n",
        "Create a list of items (e.g., groceries) and perform basic operations (add, remove, slice)."
      ]
    },
    {
      "cell_type": "code",
      "execution_count": 5,
      "metadata": {},
      "outputs": [
        {
          "name": "stdout",
          "output_type": "stream",
          "text": [
            "Updated groceries list: ['milk', 'eggs', 'butter', 'cheese', 'apples']\n",
            "Sliced groceries (first 3 items): ['milk', 'eggs', 'butter']\n"
          ]
        }
      ],
      "source": [
        "# Create a list of groceries\n",
        "groceries = [\"milk\", \"bread\", \"eggs\", \"butter\", \"cheese\"]\n",
        "\n",
        "# Add an item to the list\n",
        "groceries.append(\"apples\")\n",
        "\n",
        "# Remove an item from the list\n",
        "groceries.remove(\"bread\")\n",
        "\n",
        "# Slice the list (e.g., get the first 3 items)\n",
        "sliced_groceries = groceries[:3]\n",
        "\n",
        "# Print the updated list and the sliced list\n",
        "print(\"Updated groceries list:\", groceries)\n",
        "print(\"Sliced groceries (first 3 items):\", sliced_groceries)\n"
      ]
    },
    {
      "cell_type": "markdown",
      "metadata": {},
      "source": [
        "**Exercise 4: Dictionaries**\n",
        "\n",
        "Create a dictionary to store contact information (name, phone, email)."
      ]
    },
    {
      "cell_type": "code",
      "execution_count": 8,
      "metadata": {},
      "outputs": [
        {
          "name": "stdout",
          "output_type": "stream",
          "text": [
            "Contact Name: John Doe\n",
            "Contact Phone: 123-456-7890\n",
            "Contact Email: john.doe@example.com\n"
          ]
        }
      ],
      "source": [
        "# Create a dictionary to store contact information\n",
        "contact_info = {\n",
        "    \"name\": \"John Doe\",\n",
        "    \"phone\": \"123-456-7890\",\n",
        "    \"email\": \"john.doe@example.com\",\n",
        "}\n",
        "\n",
        "# Print the contact information\n",
        "print(\"Contact Name:\", contact_info[\"name\"])\n",
        "print(\"Contact Phone:\", contact_info[\"phone\"])\n",
        "print(\"Contact Email:\", contact_info[\"email\"])\n"
      ]
    },
    {
      "cell_type": "markdown",
      "metadata": {},
      "source": [
        "**Exercise 5: Conditionals**\n",
        "\n",
        "Write a program that asks for the user's age and prints a message based on the input."
      ]
    },
    {
      "cell_type": "code",
      "execution_count": 10,
      "metadata": {},
      "outputs": [
        {
          "name": "stdout",
          "output_type": "stream",
          "text": [
            "You are an adult.\n"
          ]
        }
      ],
      "source": [
        "# Ask the user for their age\n",
        "age = int(input(\"Enter your age: \"))\n",
        "\n",
        "# Check the age and print the corresponding message\n",
        "if age < 18:\n",
        "    print(\"You are a minor.\")\n",
        "elif age >= 18 and age < 65:\n",
        "    print(\"You are an adult.\")\n",
        "else:\n",
        "    print(\"You are a senior.\")\n"
      ]
    },
    {
      "cell_type": "markdown",
      "metadata": {},
      "source": [
        "**Exercise 6: Loops**\n",
        "\n",
        "Write a program that prints the first 10 numbers in a list using a for loop."
      ]
    },
    {
      "cell_type": "code",
      "execution_count": 15,
      "metadata": {},
      "outputs": [
        {
          "name": "stdout",
          "output_type": "stream",
          "text": [
            "1\n",
            "2\n",
            "3\n",
            "4\n",
            "5\n",
            "6\n",
            "7\n",
            "8\n",
            "9\n",
            "10\n"
          ]
        }
      ],
      "source": [
        "# Create a list of the first 10 numbers\n",
        "numbers = list(range(1, 11))  # [1, 2, 3, ..., 10]\n",
        "\n",
        "# Use a for loop to print each number\n",
        "for number in numbers:\n",
        "    print(number)\n"
      ]
    },
    {
      "cell_type": "markdown",
      "metadata": {},
      "source": [
        "**Exercise 7: Basic Function**\n",
        "\n",
        "Write a function that takes two numbers as arguments and returns their sum."
      ]
    },
    {
      "cell_type": "code",
      "execution_count": 17,
      "metadata": {},
      "outputs": [
        {
          "name": "stdout",
          "output_type": "stream",
          "text": [
            "The sum is: 12\n"
          ]
        }
      ],
      "source": [
        "# Define a function that takes two numbers and returns their sum\n",
        "def add_numbers(a, b):\n",
        "    return a + b\n",
        "\n",
        "# Call the function with two numbers and print the result\n",
        "result = add_numbers(5, 7)\n",
        "print(\"The sum is:\", result)\n"
      ]
    },
    {
      "cell_type": "markdown",
      "metadata": {},
      "source": [
        "**Exercise 8: Reading and writing files**\n",
        "\n",
        "Create a JSON file with some employee data (name, age, department). \n",
        "\n",
        "Read the file using the methods and print them.\n",
        "\n",
        "Change some data and save it again."
      ]
    },
    {
      "cell_type": "code",
      "execution_count": null,
      "metadata": {},
      "outputs": [],
      "source": [
        "import json\n",
        "\n",
        "# Step 1: Create a JSON file with employee data\n",
        "employee_data = [\n",
        "    {\"name\": \"Alice\", \"age\": 30, \"department\": \"HR\"},\n",
        "    {\"name\": \"Bob\", \"age\": 25, \"department\": \"Engineering\"},\n",
        "    {\"name\": \"Charlie\", \"age\": 35, \"department\": \"Marketing\"}\n",
        "]\n",
        "\n",
        "# Write the data to a JSON file\n",
        "with open(\"employees.json\", \"w\") as file:\n",
        "    json.dump(employee_data, file)\n",
        "\n",
        "print(\"Initial employee data saved to 'employees.json'\")\n",
        "\n",
        "# Step 2: Read the JSON file and print the data\n",
        "with open(\"employees.json\", \"r\") as file:\n",
        "    employees = json.load(file)\n",
        "    print(\"\\nEmployee data read from 'employees.json':\")\n",
        "    for employee in employees:\n",
        "        print(employee)\n",
        "\n",
        "# Step 3: Modify some data (e.g., change Bob's age)\n",
        "for employee in employees:\n",
        "    if employee[\"name\"] == \"Bob\":\n",
        "        employee[\"age\"] = 26  # Change Bob's age\n",
        "\n",
        "# Step 4: Save the modified data back to the JSON file\n",
        "with open(\"employees.json\", \"w\") as file:\n",
        "    json.dump(employees, file)\n",
        "\n",
        "print(\"\\nModified employee data saved back to 'employees.json'\")"
      ]
    },
    {
      "cell_type": "markdown",
      "metadata": {},
      "source": [
        "**Exercise 9: Errors and exceptions**\n",
        "\n",
        "Generate a function that asks the user for a filename.\n",
        "\n",
        "Use try-except to handle possible errors if the file is not present or is there are issues when reading the file.\n",
        "\n",
        "Add a finally block.\n"
      ]
    },
    {
      "cell_type": "code",
      "execution_count": null,
      "metadata": {},
      "outputs": [],
      "source": [
        "def read_file():\n",
        "    try:\n",
        "        filename = input(\"Enter the filename: \")\n",
        "        with open(filename, \"r\") as file:\n",
        "            content = file.read()\n",
        "            print(\"File content:\")\n",
        "            print(content)\n",
        "    except FileNotFoundError:\n",
        "        print(\"Error: The file does not exist.\")\n",
        "    except PermissionError:\n",
        "        print(\"Error: You don't have permission to read the file.\")\n",
        "    except Exception as e:\n",
        "        print(f\"An unexpected error occurred: {e}\")\n",
        "    finally:\n",
        "        print(\"Program execution completed.\")\n",
        "\n",
        "read_file()\n"
      ]
    },
    {
      "cell_type": "markdown",
      "metadata": {},
      "source": [
        "**Exercise 10: Object oriented programming**\n",
        "\n",
        "Library Management System\n",
        "\n",
        "In this activity, you’ll build a mini-library management system where users can borrow and return books. This project will reinforce OOP principles, including classes, inheritance, polymorphism, and encapsulation.\n",
        "\n",
        "---\n",
        "\n",
        "## Instructions\n",
        "\n",
        "1. **Define a `Book` Class:**\n",
        "   - The `Book` class should have attributes for `title`, `author`, and `is_borrowed` (a boolean indicating if the book is currently borrowed).\n",
        "   - Include methods `borrow()` and `return_book()` to update the book's status. Ensure that these methods check if the book can be borrowed or returned, respectively.\n",
        "\n",
        "2. **Create a `Library` Class:**\n",
        "   - The `Library` class should have an attribute `books`, which is a list that stores all available books.\n",
        "   - Implement methods to `add_book()` and `remove_book()` from the library.\n",
        "   - Add a method `list_books()` to display all books and their status (borrowed or available).\n",
        "\n",
        "3. **Add Inheritance:**\n",
        "   - Create a `DigitalLibrary` subclass of `Library` to represent a library that lends digital books.\n",
        "   - Add an additional `borrow_period` attribute and a `download_link` for each book.\n",
        "   - Override the `borrow()` method to display the download link and borrow period.\n",
        "\n",
        "4. **Polymorphism with a `User` Class:**\n",
        "   - Create a `User` class that can interact with the library. Users should have `name` and `borrowed_books` attributes.\n",
        "   - The `User` class should include a method `borrow_book(library, book_title)` that allows the user to borrow a book from any type of library (polymorphism).\n",
        "   - Also, add a `return_book(library, book_title)` method for returning books to the library.\n",
        "\n",
        "5. **Encapsulation and Error Handling:**\n",
        "   - Ensure books can’t be borrowed more than once.\n",
        "   - Handle potential errors, such as trying to borrow a book that doesn't exist in the library or returning a book not borrowed by the user.\n",
        "\n",
        "---\n",
        "\n",
        "## Example Usage\n",
        "\n",
        "```python\n",
        "# Create books\n",
        "book1 = Book(\"The Great Gatsby\", \"F. Scott Fitzgerald\")\n",
        "book2 = Book(\"1984\", \"George Orwell\")\n",
        "\n",
        "# Create a Library and add books to it\n",
        "library = Library()\n",
        "library.add_book(book1)\n",
        "library.add_book(book2)\n",
        "\n",
        "# Create a user and let them interact with the library\n",
        "user = User(\"Alice\")\n",
        "user.borrow_book(library, \"1984\")\n",
        "user.return_book(library, \"1984\")\n",
        "\n",
        "# List all books in the library\n",
        "library.list_books()\n"
      ]
    },
    {
      "cell_type": "code",
      "execution_count": null,
      "metadata": {},
      "outputs": [],
      "source": [
        "# Book Class\n",
        "class Book:\n",
        "    def __init__(self, title, author):\n",
        "        self.title = title\n",
        "        self.author = author\n",
        "        self._is_borrowed = False  # Encapsulated with a private attribute\n",
        "\n",
        "    def borrow(self):\n",
        "        if not self._is_borrowed:\n",
        "            self._is_borrowed = True\n",
        "            print(f\"{self.title} has been borrowed.\")\n",
        "        else:\n",
        "            print(f\"{self.title} is already borrowed.\")\n",
        "\n",
        "    def return_book(self):\n",
        "        if self._is_borrowed:\n",
        "            self._is_borrowed = False\n",
        "            print(f\"{self.title} has been returned.\")\n",
        "        else:\n",
        "            print(f\"{self.title} was not borrowed.\")\n",
        "\n",
        "    def is_borrowed(self):\n",
        "        return self._is_borrowed\n",
        "\n",
        "\n",
        "# Library Class\n",
        "class Library:\n",
        "    def __init__(self):\n",
        "        self.books = []  # List to store Book objects\n",
        "\n",
        "    def add_book(self, book):\n",
        "        self.books.append(book)\n",
        "        print(f\"{book.title} by {book.author} added to the library.\")\n",
        "\n",
        "    def remove_book(self, book_title):\n",
        "        for book in self.books:\n",
        "            if book.title == book_title:\n",
        "                self.books.remove(book)\n",
        "                print(f\"{book_title} has been removed from the library.\")\n",
        "                return\n",
        "        print(f\"{book_title} not found in the library.\")\n",
        "\n",
        "    def list_books(self):\n",
        "        print(\"Books in the library:\")\n",
        "        for book in self.books:\n",
        "            status = \"Borrowed\" if book.is_borrowed() else \"Available\"\n",
        "            print(f\"{book.title} by {book.author} - {status}\")\n",
        "\n",
        "\n",
        "# DigitalLibrary Class inheriting from Library\n",
        "class DigitalLibrary(Library):\n",
        "    def __init__(self):\n",
        "        super().__init__()\n",
        "        self.borrow_period = 7  # Borrow period in days\n",
        "\n",
        "    def add_digital_book(self, book, download_link):\n",
        "        # Store download link for digital books\n",
        "        book.download_link = download_link\n",
        "        self.books.append(book)\n",
        "        print(f\"{book.title} by {book.author} added to the digital library.\")\n",
        "\n",
        "    def borrow(self, book_title):\n",
        "        for book in self.books:\n",
        "            if book.title == book_title:\n",
        "                if not book.is_borrowed():\n",
        "                    book.borrow()\n",
        "                    print(f\"Download link: {book.download_link} - Available for {self.borrow_period} days.\")\n",
        "                else:\n",
        "                    print(f\"{book.title} is currently borrowed.\")\n",
        "                return\n",
        "        print(f\"{book_title} not found in the digital library.\")\n",
        "\n",
        "\n",
        "# User Class\n",
        "class User:\n",
        "    def __init__(self, name):\n",
        "        self.name = name\n",
        "        self.borrowed_books = []\n",
        "\n",
        "    def borrow_book(self, library, book_title):\n",
        "        for book in library.books:\n",
        "            if book.title == book_title:\n",
        "                if not book.is_borrowed():\n",
        "                    book.borrow()\n",
        "                    self.borrowed_books.append(book)\n",
        "                    print(f\"{self.name} borrowed {book.title}.\")\n",
        "                else:\n",
        "                    print(f\"{book.title} is already borrowed.\")\n",
        "                return\n",
        "        print(f\"{book_title} not found in the library.\")\n",
        "\n",
        "    def return_book(self, library, book_title):\n",
        "        for book in self.borrowed_books:\n",
        "            if book.title == book_title:\n",
        "                book.return_book()\n",
        "                self.borrowed_books.remove(book)\n",
        "                print(f\"{self.name} returned {book.title}.\")\n",
        "                return\n",
        "        print(f\"{self.name} does not have {book_title} to return.\")\n",
        "\n",
        "\n",
        "# Example Usage\n",
        "# Create Books\n",
        "book1 = Book(\"The Great Gatsby\", \"F. Scott Fitzgerald\")\n",
        "book2 = Book(\"1984\", \"George Orwell\")\n",
        "\n",
        "# Create a Library and add books to it\n",
        "library = Library()\n",
        "library.add_book(book1)\n",
        "library.add_book(book2)\n",
        "\n",
        "# Create a Digital Library and add a digital book\n",
        "digital_library = DigitalLibrary()\n",
        "digital_library.add_digital_book(book1, \"http://download-link.com/gatsby\")\n",
        "\n",
        "# Create a User and let them interact with the libraries\n",
        "user = User(\"Alice\")\n",
        "user.borrow_book(library, \"1984\")\n",
        "user.return_book(library, \"1984\")\n",
        "\n",
        "# Borrow and return from the digital library\n",
        "user.borrow_book(digital_library, \"The Great Gatsby\")\n",
        "user.return_book(digital_library, \"The Great Gatsby\")\n",
        "\n",
        "# List all books in the library\n",
        "library.list_books()\n",
        "digital_library.list_books()\n"
      ]
    },
    {
      "cell_type": "markdown",
      "metadata": {},
      "source": [
        "**Project: Small Python Program**\n",
        "\n",
        "Create a program that uses at least:\n",
        "* One function.\n",
        "* One conditional statement.\n",
        "* A loop.\n",
        "* Different data types (e.g., list, dictionary).\n",
        "* Classes and objects\n",
        "\n",
        "Example: Write a program that asks the user to input a list of expenses and then calculates the total cost."
      ]
    },
    {
      "cell_type": "code",
      "execution_count": 18,
      "metadata": {},
      "outputs": [
        {
          "name": "stdout",
          "output_type": "stream",
          "text": [
            "\n",
            "Expense Summary:\n",
            "Number of expenses: 3\n",
            "Expenses: [25.0, 50.0, 75.0]\n",
            "Total cost: $ 150.0\n",
            "Warning: You are spending too much!\n"
          ]
        }
      ],
      "source": [
        "class Transaction:\n",
        "    def __init__(self, description, amount, transaction_type):\n",
        "        self.description = description\n",
        "        self.amount = amount\n",
        "        self.transaction_type = transaction_type\n",
        "\n",
        "    def display(self):\n",
        "        return f\"{self.transaction_type.capitalize()}: {self.description} - ${self.amount:.2f}\"\n",
        "\n",
        "\n",
        "class FinanceTracker:\n",
        "    def __init__(self):\n",
        "        self.transactions = []\n",
        "\n",
        "    def add_transaction(self, transaction):\n",
        "        self.transactions.append(transaction)\n",
        "\n",
        "    def calculate_total_income(self):\n",
        "        return sum(t.amount for t in self.transactions if t.transaction_type == \"income\")\n",
        "\n",
        "    def calculate_total_expenses(self):\n",
        "        return sum(t.amount for t in self.transactions if t.transaction_type == \"expense\")\n",
        "\n",
        "    def calculate_balance(self):\n",
        "        return self.calculate_total_income() - self.calculate_total_expenses()\n",
        "\n",
        "    def list_transactions(self):\n",
        "        for transaction in self.transactions:\n",
        "            print(transaction.display())\n",
        "\n",
        "\n",
        "def main():\n",
        "    tracker = FinanceTracker()\n",
        "\n",
        "    while True:\n",
        "        print(\"\\nOptions:\")\n",
        "        print(\"1. Add Expense\")\n",
        "        print(\"2. Add Income\")\n",
        "        print(\"3. View Summary\")\n",
        "        print(\"4. Exit\")\n",
        "        choice = input(\"Choose an option: \")\n",
        "\n",
        "        if choice == '1':\n",
        "            desc = input(\"Enter expense description: \")\n",
        "            amount = float(input(\"Enter amount: \"))\n",
        "            tracker.add_transaction(Transaction(desc, amount, \"expense\"))\n",
        "            print(\"Expense added.\")\n",
        "\n",
        "        elif choice == '2':\n",
        "            desc = input(\"Enter income description: \")\n",
        "            amount = float(input(\"Enter amount: \"))\n",
        "            tracker.add_transaction(Transaction(desc, amount, \"income\"))\n",
        "            print(\"Income added.\")\n",
        "\n",
        "        elif choice == '3':\n",
        "            print(\"\\nTransaction Summary:\")\n",
        "            tracker.list_transactions()\n",
        "            print(f\"Total Income: ${tracker.calculate_total_income():.2f}\")\n",
        "            print(f\"Total Expenses: ${tracker.calculate_total_expenses():.2f}\")\n",
        "            print(f\"Current Balance: ${tracker.calculate_balance():.2f}\")\n",
        "\n",
        "        elif choice == '4':\n",
        "            print(\"Exiting the program.\")\n",
        "            break\n",
        "\n",
        "        else:\n",
        "            print(\"Invalid option. Please try again.\")\n",
        "\n",
        "\n",
        "main()\n",
        "\n"
      ]
    }
  ],
  "metadata": {
    "colab": {
      "provenance": []
    },
    "kernelspec": {
      "display_name": "Python 3",
      "name": "python3"
    },
    "language_info": {
      "codemirror_mode": {
        "name": "ipython",
        "version": 3
      },
      "file_extension": ".py",
      "mimetype": "text/x-python",
      "name": "python",
      "nbconvert_exporter": "python",
      "pygments_lexer": "ipython3",
      "version": "3.12.6"
    }
  },
  "nbformat": 4,
  "nbformat_minor": 0
}
