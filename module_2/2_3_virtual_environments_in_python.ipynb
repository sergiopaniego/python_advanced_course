{
  "cells": [
    {
      "cell_type": "markdown",
      "metadata": {
        "id": "x3zddMB_G9k4"
      },
      "source": [
        "# 1. Use of modules and applied methods"
      ]
    },
    {
      "cell_type": "markdown",
      "metadata": {
        "id": "ikR5GR0THF9j"
      },
      "source": [
        "**math**"
      ]
    },
    {
      "cell_type": "code",
      "execution_count": 2,
      "metadata": {
        "id": "Z23qBkgPHFau"
      },
      "outputs": [
        {
          "name": "stdout",
          "output_type": "stream",
          "text": [
            "4.0\n"
          ]
        }
      ],
      "source": [
        "import math\n",
        "\n",
        "result = math.sqrt(16)  # Calls the sqrt() method from the math module\n",
        "print(result)"
      ]
    },
    {
      "cell_type": "markdown",
      "metadata": {
        "id": "hqOV1d9FHLY1"
      },
      "source": [
        "**random**"
      ]
    },
    {
      "cell_type": "code",
      "execution_count": 9,
      "metadata": {
        "id": "g3-2r7M9HNrQ"
      },
      "outputs": [
        {
          "name": "stdout",
          "output_type": "stream",
          "text": [
            "13\n"
          ]
        }
      ],
      "source": [
        "import random\n",
        "\n",
        "# Generate a random number between 1 and 100\n",
        "random_number = random.randint(1, 100)\n",
        "print(random_number)\n"
      ]
    },
    {
      "cell_type": "markdown",
      "metadata": {
        "id": "aeIqN5VmHReu"
      },
      "source": [
        "**datetime**"
      ]
    },
    {
      "cell_type": "code",
      "execution_count": 11,
      "metadata": {
        "id": "HPJGjmCmHTHM"
      },
      "outputs": [
        {
          "name": "stdout",
          "output_type": "stream",
          "text": [
            "Current date and time: 2024-10-09 12:14:43.196935\n"
          ]
        }
      ],
      "source": [
        "import datetime\n",
        "\n",
        "# Get the current date and time\n",
        "now = datetime.datetime.now()\n",
        "print(f\"Current date and time: {now}\")\n"
      ]
    },
    {
      "cell_type": "markdown",
      "metadata": {
        "id": "6JFn5vHoHWBu"
      },
      "source": [
        "**os**"
      ]
    },
    {
      "cell_type": "code",
      "execution_count": null,
      "metadata": {
        "id": "exlhUCk9HWsV"
      },
      "outputs": [],
      "source": [
        "import os\n",
        "\n",
        "# Get the current working directory\n",
        "current_directory = os.getcwd()\n",
        "print(f\"Current working directory: {current_directory}\")\n"
      ]
    },
    {
      "cell_type": "code",
      "execution_count": 15,
      "metadata": {
        "id": "khpscpc4Hfsg"
      },
      "outputs": [
        {
          "name": "stdout",
          "output_type": "stream",
          "text": [
            "Files in the current directory: ['my_module.py', '2_3_advance_handling_functions_modules_files.ipynb', '2_1_module_usage_example.py', '2_2_main.py', 'logfile.log', 'solutions', '__pycache__', 'data.csv', 'data.json', 'project_solution', 'example.txt', 'employees.json', 'example_dir', 'backup', '2_1_module_usage_example_2.py', 'output.txt']\n"
          ]
        }
      ],
      "source": [
        "# List files in a directory\n",
        "files = os.listdir(current_directory)\n",
        "print(f\"Files in the current directory: {files}\")\n"
      ]
    },
    {
      "cell_type": "markdown",
      "metadata": {
        "id": "YXw5q2vYFkdC"
      },
      "source": [
        "# 2. Errors and exceptions"
      ]
    },
    {
      "cell_type": "markdown",
      "metadata": {
        "id": "bRDoPTV9F-gr"
      },
      "source": [
        "**Syntax error**"
      ]
    },
    {
      "cell_type": "code",
      "execution_count": 18,
      "metadata": {
        "id": "GxbbwDSKFmbF"
      },
      "outputs": [
        {
          "ename": "SyntaxError",
          "evalue": "incomplete input (1357744799.py, line 3)",
          "output_type": "error",
          "traceback": [
            "\u001b[0;36m  Cell \u001b[0;32mIn[18], line 3\u001b[0;36m\u001b[0m\n\u001b[0;31m    print(\"Hello, world\"\u001b[0m\n\u001b[0m                        ^\u001b[0m\n\u001b[0;31mSyntaxError\u001b[0m\u001b[0;31m:\u001b[0m incomplete input\n"
          ]
        }
      ],
      "source": [
        "# Syntax error due to a missing parenthesis\n",
        "\n",
        "print(\"Hello, world\""
      ]
    },
    {
      "cell_type": "markdown",
      "metadata": {
        "id": "So71cRP2GAfx"
      },
      "source": [
        "**Execution error**"
      ]
    },
    {
      "cell_type": "code",
      "execution_count": 20,
      "metadata": {
        "id": "1RT0eRe3GC7i"
      },
      "outputs": [
        {
          "ename": "ZeroDivisionError",
          "evalue": "division by zero",
          "output_type": "error",
          "traceback": [
            "\u001b[0;31m---------------------------------------------------------------------------\u001b[0m",
            "\u001b[0;31mZeroDivisionError\u001b[0m                         Traceback (most recent call last)",
            "Cell \u001b[0;32mIn[20], line 1\u001b[0m\n\u001b[0;32m----> 1\u001b[0m number \u001b[38;5;241m=\u001b[39m \u001b[38;5;241;43m10\u001b[39;49m\u001b[43m \u001b[49m\u001b[38;5;241;43m/\u001b[39;49m\u001b[43m \u001b[49m\u001b[38;5;241;43m0\u001b[39;49m\n",
            "\u001b[0;31mZeroDivisionError\u001b[0m: division by zero"
          ]
        }
      ],
      "source": [
        "number = 10 / 0"
      ]
    },
    {
      "cell_type": "markdown",
      "metadata": {
        "id": "GTQ8l_y2GM-O"
      },
      "source": [
        "**Use of exception to capture the error and control it**"
      ]
    },
    {
      "cell_type": "code",
      "execution_count": 21,
      "metadata": {
        "id": "b05q8svDGP9L"
      },
      "outputs": [
        {
          "name": "stdout",
          "output_type": "stream",
          "text": [
            "A division by zero error occurred\n"
          ]
        }
      ],
      "source": [
        "try:\n",
        "    number = 10 / 0  # This will raise a ZeroDivisionError\n",
        "except ZeroDivisionError:\n",
        "    print(\"A division by zero error occurred\")\n"
      ]
    },
    {
      "cell_type": "markdown",
      "metadata": {
        "id": "-l4q0XClGgTR"
      },
      "source": [
        "**Example with 'NameError'**"
      ]
    },
    {
      "cell_type": "code",
      "execution_count": 23,
      "metadata": {
        "id": "9dmO7wuFGWY4"
      },
      "outputs": [
        {
          "ename": "NameError",
          "evalue": "name 'undefined_variable' is not defined",
          "output_type": "error",
          "traceback": [
            "\u001b[0;31m---------------------------------------------------------------------------\u001b[0m",
            "\u001b[0;31mNameError\u001b[0m                                 Traceback (most recent call last)",
            "Cell \u001b[0;32mIn[23], line 2\u001b[0m\n\u001b[1;32m      1\u001b[0m \u001b[38;5;66;03m# Raises a NameError because the variable 'undefined_variable' is not defined\u001b[39;00m\n\u001b[0;32m----> 2\u001b[0m \u001b[38;5;28mprint\u001b[39m(\u001b[43mundefined_variable\u001b[49m)\n",
            "\u001b[0;31mNameError\u001b[0m: name 'undefined_variable' is not defined"
          ]
        }
      ],
      "source": [
        "# Raises a NameError because the variable 'undefined_variable' is not defined\n",
        "print(undefined_variable)"
      ]
    },
    {
      "cell_type": "code",
      "execution_count": null,
      "metadata": {
        "id": "X5XXL2rZGbts"
      },
      "outputs": [],
      "source": [
        "try:\n",
        "    print(undefined_variable)\n",
        "except NameError:\n",
        "    print(\"Variable 'undefince_variable' is not defined\")"
      ]
    },
    {
      "cell_type": "markdown",
      "metadata": {
        "id": "e1WlCiHeGizF"
      },
      "source": [
        "**Example 'TypeError'**"
      ]
    },
    {
      "cell_type": "code",
      "execution_count": 26,
      "metadata": {
        "id": "0IIFBk66Gk8T"
      },
      "outputs": [
        {
          "ename": "TypeError",
          "evalue": "can only concatenate str (not \"int\") to str",
          "output_type": "error",
          "traceback": [
            "\u001b[0;31m---------------------------------------------------------------------------\u001b[0m",
            "\u001b[0;31mTypeError\u001b[0m                                 Traceback (most recent call last)",
            "Cell \u001b[0;32mIn[26], line 2\u001b[0m\n\u001b[1;32m      1\u001b[0m \u001b[38;5;66;03m# Generates a TypeError because you're trying to add a string with a integer.\u001b[39;00m\n\u001b[0;32m----> 2\u001b[0m result \u001b[38;5;241m=\u001b[39m \u001b[38;5;124;43m\"\u001b[39;49m\u001b[38;5;124;43m10\u001b[39;49m\u001b[38;5;124;43m\"\u001b[39;49m\u001b[43m \u001b[49m\u001b[38;5;241;43m+\u001b[39;49m\u001b[43m \u001b[49m\u001b[38;5;241;43m5\u001b[39;49m\n",
            "\u001b[0;31mTypeError\u001b[0m: can only concatenate str (not \"int\") to str"
          ]
        }
      ],
      "source": [
        "# Generates a TypeError because you're trying to add a string with a integer.\n",
        "result = \"10\" + 5"
      ]
    },
    {
      "cell_type": "code",
      "execution_count": 27,
      "metadata": {
        "id": "F85BPFtdGwBK"
      },
      "outputs": [
        {
          "name": "stdout",
          "output_type": "stream",
          "text": [
            "Type Error: Cannot add a string and an integer\n"
          ]
        }
      ],
      "source": [
        "try:\n",
        "    result = \"10\" + 5\n",
        "except TypeError:\n",
        "    print(\"Type Error: Cannot add a string and an integer\")"
      ]
    },
    {
      "cell_type": "markdown",
      "metadata": {},
      "source": [
        "**Multiple exceptions**"
      ]
    },
    {
      "cell_type": "code",
      "execution_count": 32,
      "metadata": {},
      "outputs": [
        {
          "name": "stdout",
          "output_type": "stream",
          "text": [
            "invalid literal for int() with base 10: 'j'\n",
            "That's not a valid number!\n"
          ]
        }
      ],
      "source": [
        "try:\n",
        "    num = int(input(\"Enter a number: \"))\n",
        "    result = 10 / num\n",
        "except ValueError:\n",
        "    print(\"That's not a valid number!\")\n",
        "except ZeroDivisionError:\n",
        "    print(\"You can't divide by zero!\")"
      ]
    },
    {
      "cell_type": "markdown",
      "metadata": {},
      "source": [
        "**Use of finally**"
      ]
    },
    {
      "cell_type": "code",
      "execution_count": 33,
      "metadata": {},
      "outputs": [],
      "source": [
        "try:\n",
        "    file = open(\"example.txt\", \"r\")\n",
        "    content = file.read()\n",
        "except FileNotFoundError:\n",
        "    print(\"File not found!\")\n",
        "finally:\n",
        "    file.close()  # This always runs, even if an exception occurs"
      ]
    },
    {
      "cell_type": "markdown",
      "metadata": {},
      "source": [
        "# 3. Reading and writing files"
      ]
    },
    {
      "cell_type": "markdown",
      "metadata": {},
      "source": [
        "**TXT files**"
      ]
    },
    {
      "cell_type": "code",
      "execution_count": 40,
      "metadata": {},
      "outputs": [
        {
          "name": "stdout",
          "output_type": "stream",
          "text": [
            "Hello, World!\n",
            "\n"
          ]
        }
      ],
      "source": [
        "with open(\"example.txt\", \"r\") as file:\n",
        "    content = file.read()\n",
        "    print(content)"
      ]
    },
    {
      "cell_type": "code",
      "execution_count": 37,
      "metadata": {},
      "outputs": [],
      "source": [
        "with open(\"example.txt\", \"w\") as file:\n",
        "    file.write(\"Hello, World!\\n\")"
      ]
    },
    {
      "cell_type": "markdown",
      "metadata": {},
      "source": [
        "**CSV files**"
      ]
    },
    {
      "cell_type": "code",
      "execution_count": 38,
      "metadata": {},
      "outputs": [
        {
          "name": "stdout",
          "output_type": "stream",
          "text": [
            "['Name', 'Age', 'City']\n",
            "['Alice', '30', 'New York']\n"
          ]
        }
      ],
      "source": [
        "import csv\n",
        "\n",
        "with open(\"data.csv\", newline='') as csvfile:\n",
        "    reader = csv.reader(csvfile)\n",
        "    for row in reader:\n",
        "        print(row)"
      ]
    },
    {
      "cell_type": "code",
      "execution_count": 43,
      "metadata": {},
      "outputs": [],
      "source": [
        "import csv\n",
        "\n",
        "with open(\"data.csv\", mode=\"w\", newline='') as csvfile:\n",
        "    writer = csv.writer(csvfile)\n",
        "    writer.writerow([\"Name\", \"Age\", \"City\"])\n",
        "    writer.writerow([\"Alice\", 30, \"New York\"])"
      ]
    },
    {
      "cell_type": "markdown",
      "metadata": {},
      "source": [
        "**JSON files**"
      ]
    },
    {
      "cell_type": "code",
      "execution_count": 45,
      "metadata": {},
      "outputs": [],
      "source": [
        "import json\n",
        "\n",
        "data = {\"name\": \"Alice\", \"age\": 30, \"city\": \"New York\"}\n",
        "\n",
        "with open(\"data.json\", \"w\") as jsonfile:\n",
        "    json.dump(data, jsonfile)\n"
      ]
    },
    {
      "cell_type": "code",
      "execution_count": 46,
      "metadata": {},
      "outputs": [
        {
          "name": "stdout",
          "output_type": "stream",
          "text": [
            "{'name': 'Alice', 'age': 30, 'city': 'New York'}\n"
          ]
        }
      ],
      "source": [
        "import json\n",
        "\n",
        "with open(\"data.json\", \"r\") as jsonfile:\n",
        "    data = json.load(jsonfile)\n",
        "    print(data)"
      ]
    },
    {
      "cell_type": "markdown",
      "metadata": {},
      "source": [
        "## 4. Running system commands using Python"
      ]
    },
    {
      "cell_type": "markdown",
      "metadata": {},
      "source": [
        "**Simple command**"
      ]
    },
    {
      "cell_type": "code",
      "execution_count": null,
      "metadata": {},
      "outputs": [],
      "source": [
        "import subprocess\n",
        "\n",
        "# Execute the command 'ls' to list files in a directory\n",
        "result = subprocess.run([\"ls\", \"-l\"], capture_output=True, text=True)\n",
        "print(result.stdout)  # Print the output of the command\n"
      ]
    },
    {
      "cell_type": "markdown",
      "metadata": {},
      "source": [
        "**Executing Commands with Output Redirection**"
      ]
    },
    {
      "cell_type": "code",
      "execution_count": 4,
      "metadata": {},
      "outputs": [
        {
          "name": "stdout",
          "output_type": "stream",
          "text": [
            "Error: ls: /nonexistent: No such file or directory\n",
            "\n"
          ]
        }
      ],
      "source": [
        "result = subprocess.run([\"ls\", \"-l\", \"/nonexistent\"], capture_output=True, text=True)\n",
        "if result.returncode != 0:\n",
        "    print(\"Error:\", result.stderr)\n",
        "else:\n",
        "    print(result.stdout)"
      ]
    },
    {
      "cell_type": "markdown",
      "metadata": {},
      "source": [
        "**Executing Complex Commands or Scripts**"
      ]
    },
    {
      "cell_type": "code",
      "execution_count": 6,
      "metadata": {},
      "outputs": [],
      "source": [
        "# Redirect the output of 'ls' to a file\n",
        "with open(\"output.txt\", \"w\") as file:\n",
        "    subprocess.run([\"ls\", \"-l\"], stdout=file)\n"
      ]
    },
    {
      "cell_type": "markdown",
      "metadata": {},
      "source": [
        "**Running in the background and proccess management**"
      ]
    },
    {
      "cell_type": "code",
      "execution_count": 10,
      "metadata": {},
      "outputs": [
        {
          "name": "stdout",
          "output_type": "stream",
          "text": [
            "This runs immediately while the process is sleeping\n"
          ]
        },
        {
          "data": {
            "text/plain": [
              "0"
            ]
          },
          "execution_count": 10,
          "metadata": {},
          "output_type": "execute_result"
        }
      ],
      "source": [
        "process = subprocess.Popen([\"sleep\", \"5\"])\n",
        "print(\"This runs immediately while the process is sleeping\")\n",
        "process.wait()  # Wait until the process finishes"
      ]
    },
    {
      "cell_type": "markdown",
      "metadata": {},
      "source": [
        "# Activity: File Management and System Interaction with Python\n",
        "\n",
        "**Objective:** This activity will integrate modules and standard libraries, error handling, file reading/writing, and executing system commands using Python. Participants will create a small project that manages employee records stored in a CSV file, which they will manipulate using various libraries and techniques learned in class.\n",
        "\n",
        "## Instructions:\n",
        "\n",
        "1. **Create a Custom Module (`employee_manager.py`)**:\n",
        "   - Create a new Python file named `employee_manager.py`.\n",
        "   - In this module, define the following functions:\n",
        "     - `read_employees(file_path)`: Reads employee data from a CSV file and returns a list of dictionaries.\n",
        "     - `write_employees(file_path, employees)`: Writes employee data to a CSV file.\n",
        "     - `add_employee(file_path, name, age, department)`: Adds a new employee to the CSV file.\n",
        "     - `display_employees(file_path)`: Displays the employee records on the screen.\n",
        "   \n",
        "2. **Main Script**:\n",
        "   - Create a main script `main.py` where you will interact with the user.\n",
        "   - Use the `os`, `sys`, and `shutil` libraries to manage file paths and handle file operations.\n",
        "   - Prompt the user to choose an action (add employee, display employees, exit).\n",
        "   - Use exception handling (`try`, `except`, `finally`) to manage errors gracefully, such as file not found or invalid input.\n",
        "\n",
        "3. **File Management**:\n",
        "   - In your `main.py`, include functionality to create a new CSV file if it doesn’t exist.\n",
        "   - Ensure that your code can handle different file formats (like a JSON version of the employee data).\n",
        "\n",
        "4. **Execute System Commands**:\n",
        "   - Use the `subprocess` module to display the contents of the CSV file in the command line.\n",
        "   - Allow the user to execute a command to delete the CSV file (with a confirmation prompt).\n"
      ]
    },
    {
      "cell_type": "code",
      "execution_count": null,
      "metadata": {},
      "outputs": [],
      "source": []
    }
  ],
  "metadata": {
    "colab": {
      "provenance": []
    },
    "kernelspec": {
      "display_name": "Python 3",
      "name": "python3"
    },
    "language_info": {
      "codemirror_mode": {
        "name": "ipython",
        "version": 3
      },
      "file_extension": ".py",
      "mimetype": "text/x-python",
      "name": "python",
      "nbconvert_exporter": "python",
      "pygments_lexer": "ipython3",
      "version": "3.12.6"
    }
  },
  "nbformat": 4,
  "nbformat_minor": 0
}
