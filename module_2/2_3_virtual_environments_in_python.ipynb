{
  "cells": [
    {
      "cell_type": "markdown",
      "metadata": {
        "id": "x3zddMB_G9k4"
      },
      "source": [
        "# 1. Use of modules and applied methods"
      ]
    },
    {
      "cell_type": "markdown",
      "metadata": {
        "id": "ikR5GR0THF9j"
      },
      "source": [
        "**math**"
      ]
    },
    {
      "cell_type": "code",
      "execution_count": 1,
      "metadata": {
        "id": "Z23qBkgPHFau"
      },
      "outputs": [
        {
          "name": "stdout",
          "output_type": "stream",
          "text": [
            "4.0\n"
          ]
        }
      ],
      "source": [
        "import math\n",
        "\n",
        "result = math.sqrt(16)  # Calls the sqrt() method from the math module\n",
        "print(result)"
      ]
    },
    {
      "cell_type": "markdown",
      "metadata": {
        "id": "hqOV1d9FHLY1"
      },
      "source": [
        "**random**"
      ]
    },
    {
      "cell_type": "code",
      "execution_count": 2,
      "metadata": {
        "id": "g3-2r7M9HNrQ"
      },
      "outputs": [
        {
          "name": "stdout",
          "output_type": "stream",
          "text": [
            "62\n"
          ]
        }
      ],
      "source": [
        "import random\n",
        "\n",
        "# Generate a random number between 1 and 100\n",
        "random_number = random.randint(1, 100)\n",
        "print(random_number)\n"
      ]
    },
    {
      "cell_type": "markdown",
      "metadata": {
        "id": "aeIqN5VmHReu"
      },
      "source": [
        "**datetime**"
      ]
    },
    {
      "cell_type": "code",
      "execution_count": 3,
      "metadata": {
        "id": "HPJGjmCmHTHM"
      },
      "outputs": [
        {
          "name": "stdout",
          "output_type": "stream",
          "text": [
            "Current date and time: 2024-10-27 19:03:34.365167\n"
          ]
        }
      ],
      "source": [
        "import datetime\n",
        "\n",
        "# Get the current date and time\n",
        "now = datetime.datetime.now()\n",
        "print(f\"Current date and time: {now}\")\n"
      ]
    },
    {
      "cell_type": "markdown",
      "metadata": {
        "id": "6JFn5vHoHWBu"
      },
      "source": [
        "**os**"
      ]
    },
    {
      "cell_type": "code",
      "execution_count": null,
      "metadata": {
        "id": "exlhUCk9HWsV"
      },
      "outputs": [],
      "source": [
        "import os\n",
        "\n",
        "# Get the current working directory\n",
        "current_directory = os.getcwd()\n",
        "print(f\"Current working directory: {current_directory}\")\n"
      ]
    },
    {
      "cell_type": "code",
      "execution_count": 5,
      "metadata": {
        "id": "khpscpc4Hfsg"
      },
      "outputs": [
        {
          "name": "stdout",
          "output_type": "stream",
          "text": [
            "Files in the current directory: ['my_module.py', '2_1_module_usage_example.py', '2_2_main.py', 'solutions', '__pycache__', '2_3_virtual_environments_in_python.ipynb', 'example.txt', 'example_dir', 'backup', '2_1_module_usage_example_2.py']\n"
          ]
        }
      ],
      "source": [
        "# List files in a directory\n",
        "files = os.listdir(current_directory)\n",
        "print(f\"Files in the current directory: {files}\")\n"
      ]
    }
  ],
  "metadata": {
    "colab": {
      "provenance": []
    },
    "kernelspec": {
      "display_name": "Python 3",
      "name": "python3"
    },
    "language_info": {
      "codemirror_mode": {
        "name": "ipython",
        "version": 3
      },
      "file_extension": ".py",
      "mimetype": "text/x-python",
      "name": "python",
      "nbconvert_exporter": "python",
      "pygments_lexer": "ipython3",
      "version": "3.12.6"
    }
  },
  "nbformat": 4,
  "nbformat_minor": 0
}
